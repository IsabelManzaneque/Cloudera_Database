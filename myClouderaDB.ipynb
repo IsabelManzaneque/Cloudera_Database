{
 "cells": [
  {
   "cell_type": "markdown",
   "metadata": {},
   "source": [
    "# Cloudera Database project"
   ]
  },
  {
   "cell_type": "markdown",
   "metadata": {},
   "source": [
    "### Isabel Manzaneque  "
   ]
  },
  {
   "cell_type": "markdown",
   "metadata": {},
   "source": [
    "*-*-*-*-*-*-*-*-*-*-*-*-*-*-*-*-*-*-*-*-*-*-*-*-*-*-*-*-*-*-*-*-*-*-*-*-*-*-*-*-*-*-*-*-*-*-*-*-*-*-*-*-*-*-*-*-*-*-*-*"
   ]
  },
  {
   "cell_type": "markdown",
   "metadata": {},
   "source": [
    "## Create the Database and tables"
   ]
  },
  {
   "cell_type": "markdown",
   "metadata": {},
   "source": [
    "Create a new folder to store the data and another one for the local user in HDFS."
   ]
  },
  {
   "cell_type": "code",
   "execution_count": 2,
   "metadata": {
    "collapsed": true
   },
   "outputs": [],
   "source": [
    "! mkdir -p myFolder"
   ]
  },
  {
   "cell_type": "code",
   "execution_count": 3,
   "metadata": {
    "collapsed": true
   },
   "outputs": [],
   "source": [
    "import os\n",
    "os.chdir(\"myFolder\")"
   ]
  },
  {
   "cell_type": "code",
   "execution_count": 4,
   "metadata": {},
   "outputs": [
    {
     "name": "stdout",
     "output_type": "stream",
     "text": [
      "/home/cloudera/myFolder\r\n"
     ]
    }
   ],
   "source": [
    "! pwd"
   ]
  },
  {
   "cell_type": "code",
   "execution_count": 5,
   "metadata": {
    "collapsed": true
   },
   "outputs": [],
   "source": [
    "! hadoop fs -mkdir -p /user/cloudera"
   ]
  },
  {
   "cell_type": "markdown",
   "metadata": {},
   "source": [
    "Using a text file let's then create a new Database named \"projectDB\" and execute it using a Hive command."
   ]
  },
  {
   "cell_type": "code",
   "execution_count": 6,
   "metadata": {},
   "outputs": [
    {
     "name": "stdout",
     "output_type": "stream",
     "text": [
      "Writing textHive.hql\n"
     ]
    }
   ],
   "source": [
    "%%writefile textHive.hql\n",
    "create database if not exists projectDB \n",
    "Comment 'Project Database'\n",
    "Location '/user/cloudera/projectDB'\n",
    "With dbproperties ('Author' = 'Isabel', 'Dated' = '28-11-2021');"
   ]
  },
  {
   "cell_type": "code",
   "execution_count": 7,
   "metadata": {},
   "outputs": [
    {
     "name": "stdout",
     "output_type": "stream",
     "text": [
      "scan complete in 4ms\n",
      "Connecting to jdbc:hive2://localhost:10000/default\n",
      "Connected to: Apache Hive (version 1.1.0-cdh5.12.0)\n",
      "Driver: Hive JDBC (version 1.1.0-cdh5.12.0)\n",
      "Transaction isolation: TRANSACTION_REPEATABLE_READ\n",
      " : jdbc:hive2://localhost:10000/default> create database if not exists projectDB \n",
      ". . . . . . . . . . . . . . . . . . . .> Comment 'Project Database'\n",
      ". . . . . . . . . . . . . . . . . . . .> Location '/user/cloudera/projectDB'\n",
      " 'Dated' =. . . . . . . . . . . . . . .> With dbproperties ('Author' = 'Isabel',  '28-11-2021');\n",
      "INFO  : Compiling command(queryId=hive_20211129120505_dc96eba1-c78c-43e9-969c-7cb246099fa9): create database if not exists projectDB\n",
      "Comment 'Project Database'\n",
      "Location '/user/cloudera/projectDB'\n",
      "With dbproperties ('Author' = 'Isabel', 'Dated' = '28-11-2021')\n",
      "INFO  : Semantic Analysis Completed\n",
      "INFO  : Returning Hive schema: Schema(fieldSchemas:null, properties:null)\n",
      "INFO  : Completed compiling command(queryId=hive_20211129120505_dc96eba1-c78c-43e9-969c-7cb246099fa9); Time taken: 0.861 seconds\n",
      "INFO  : Concurrency mode is disabled, not creating a lock manager\n",
      "INFO  : Executing command(queryId=hive_20211129120505_dc96eba1-c78c-43e9-969c-7cb246099fa9): create database if not exists projectDB\n",
      "Comment 'Project Database'\n",
      "Location '/user/cloudera/projectDB'\n",
      "With dbproperties ('Author' = 'Isabel', 'Dated' = '28-11-2021')\n",
      "INFO  : Starting task [Stage-0:DDL] in serial mode\n",
      "INFO  : Completed executing command(queryId=hive_20211129120505_dc96eba1-c78c-43e9-969c-7cb246099fa9); Time taken: 3.847 seconds\n",
      "INFO  : OK\n",
      "No rows affected (5.436 seconds)\n",
      "0: jdbc:hive2://localhost:10000/default> \n",
      "Closing: 0: jdbc:hive2://localhost:10000/default\n"
     ]
    }
   ],
   "source": [
    "! beeline -u \"jdbc:hive2://localhost:10000/default\" -f textHive.hql"
   ]
  },
  {
   "cell_type": "markdown",
   "metadata": {},
   "source": [
    "Once the database is created, we need to create two internal tables to store our datasets. Both tables will store the data in a similar structure:\n",
    "\n",
    "Country_Name, Country_Code, Indicator_Name, Indicator_Code, y1961, ....., y2020"
   ]
  },
  {
   "cell_type": "code",
   "execution_count": 8,
   "metadata": {},
   "outputs": [
    {
     "name": "stdout",
     "output_type": "stream",
     "text": [
      "Overwriting textHive.hql\n"
     ]
    }
   ],
   "source": [
    "%%writefile textHive.hql\n",
    "use projectDB;\n",
    "\n",
    "CREATE TABLE IF NOT EXISTS cultivableLand\n",
    "(\n",
    "  Country_Name string,\n",
    "  Country_Code string,\n",
    "  Indicator_Name string,\n",
    "  Indicator_Code string,\n",
    "  y1960 float, y1961 float, y1962 float, y1963 float, y1964 float, y1965 float, y1966 float, y1967 float, y1968 float, y1969 float,\n",
    "  y1970 float, y1971 float, y1972 float, y1973 float, y1974 float, y1975 float, y1976 float, y1977 float, y1978 float, y1979 float,\n",
    "  y1980 float, y1981 float, y1982 float, y1983 float, y1984 float, y1985 float, y1986 float, y1987 float, y1988 float, y1989 float,\n",
    "  y1990 float, y1991 float, y1992 float, y1993 float, y1994 float, y1995 float, y1996 float, y1997 float, y1998 float, y1999 float,\n",
    "  y2000 float, y2001 float, y2002 float, y2003 float, y2004 float, y2005 float, y2006 float, y2007 float, y2008 float, y2009 float, \n",
    "  y2010 float, y2011 float, y2012 float, y2013 float, y2014 float, y2015 float, y2016 float, y2017 float, y2018 float, y2019 float,\n",
    "  y2020 float  \n",
    ")\n",
    "COMMENT 'Cultivable Land Table'\n",
    "ROW FORMAT SERDE 'org.apache.hadoop.hive.serde2.OpenCSVSerde';\n"
   ]
  },
  {
   "cell_type": "code",
   "execution_count": 9,
   "metadata": {
    "scrolled": true
   },
   "outputs": [
    {
     "name": "stdout",
     "output_type": "stream",
     "text": [
      "scan complete in 17ms\n",
      "Connecting to jdbc:hive2://localhost:10000/default\n",
      "Connected to: Apache Hive (version 1.1.0-cdh5.12.0)\n",
      "Driver: Hive JDBC (version 1.1.0-cdh5.12.0)\n",
      "Transaction isolation: TRANSACTION_REPEATABLE_READ\n",
      "0: jdbc:hive2://localhost:10000/default> use projectDB;\n",
      "INFO  : Compiling command(queryId=hive_20211129121515_cbecf3cf-b4f5-42bb-9d27-840992a9acd0): use projectDB\n",
      "INFO  : Semantic Analysis Completed\n",
      "INFO  : Returning Hive schema: Schema(fieldSchemas:null, properties:null)\n",
      "INFO  : Completed compiling command(queryId=hive_20211129121515_cbecf3cf-b4f5-42bb-9d27-840992a9acd0); Time taken: 0.247 seconds\n",
      "INFO  : Concurrency mode is disabled, not creating a lock manager\n",
      "INFO  : Executing command(queryId=hive_20211129121515_cbecf3cf-b4f5-42bb-9d27-840992a9acd0): use projectDB\n",
      "INFO  : Starting task [Stage-0:DDL] in serial mode\n",
      "INFO  : Completed executing command(queryId=hive_20211129121515_cbecf3cf-b4f5-42bb-9d27-840992a9acd0); Time taken: 0.027 seconds\n",
      "INFO  : OK\n",
      "No rows affected (0.362 seconds)\n",
      "0: jdbc:hive2://localhost:10000/default> \n",
      "nd jdbc:hive2://localhost:10000/default> CREATE TABLE IF NOT EXISTS cultivableLa \n",
      ". . . . . . . . . . . . . . . . . . . .> (\n",
      ". . . . . . . . . . . . . . . . . . . .>   Country_Name string,\n",
      ". . . . . . . . . . . . . . . . . . . .>   Country_Code string,\n",
      ". . . . . . . . . . . . . . . . . . . .>   Indicator_Name string,\n",
      ". . . . . . . . . . . . . . . . . . . .>   Indicator_Code string,\n",
      "y1969 float,t, y1964 float, y . . . . .>   y1960 float, y1961 float, y1962 float 1965 float, y1966 float, y1967 float, y1968 float,  \n",
      "y1979 float,t, y1974 float, y1975 float, y1976 float, y1977 float, y1978 float,  \n",
      "y1989 float,t, y1984 float, y1985 float, y1986 float, y1987 float, y1988 float,  \n",
      "y1999 float,t, y1994 float, y1995 float, y1996 float, y1997 float, y1998 float,  \n",
      "y2009 float, , y2004 float, y2005 float, y2006 float, y2007 float, y2008 float,  \n",
      "y2019 float,t, y2014 float, y2015 float, y2016 float, y2017 float, y2018 float,  \n",
      ". . . . . . . . . . . . . . . . . . . .>   y2020 float  \n",
      ". . . . . . . . . . . . . . . . . . . .> )\n",
      ". . . . . . . . . . . . . . . . . . . .> COMMENT 'Cultivable Land Table'\n",
      "e.serde2.OpenCSVSerde'; . . . . . . . .> ROW FORMAT SERDE 'org.apache.hadoop.hiv \n",
      "INFO  : Compiling command(queryId=hive_20211129121515_27052a3d-f1de-490f-a3eb-2af271025797): CREATE TABLE IF NOT EXISTS cultivableLand\n",
      "(\n",
      "Country_Name string,\n",
      "Country_Code string,\n",
      "Indicator_Name string,\n",
      "Indicator_Code string,\n",
      "y1960 float, y1961 float, y1962 float, y1963 float, y1964 float, y1965 float, y1966 float, y1967 float, y1968 float, y1969 float,\n",
      "y1970 float, y1971 float, y1972 float, y1973 float, y1974 float, y1975 float, y1976 float, y1977 float, y1978 float, y1979 float,\n",
      "y1980 float, y1981 float, y1982 float, y1983 float, y1984 float, y1985 float, y1986 float, y1987 float, y1988 float, y1989 float,\n",
      "y1990 float, y1991 float, y1992 float, y1993 float, y1994 float, y1995 float, y1996 float, y1997 float, y1998 float, y1999 float,\n",
      "y2000 float, y2001 float, y2002 float, y2003 float, y2004 float, y2005 float, y2006 float, y2007 float, y2008 float, y2009 float,\n",
      "y2010 float, y2011 float, y2012 float, y2013 float, y2014 float, y2015 float, y2016 float, y2017 float, y2018 float, y2019 float,\n",
      "y2020 float\n",
      ")\n",
      "COMMENT 'Cultivable Land Table'\n",
      "ROW FORMAT SERDE 'org.apache.hadoop.hive.serde2.OpenCSVSerde'\n",
      "INFO  : Semantic Analysis Completed\n",
      "INFO  : Returning Hive schema: Schema(fieldSchemas:null, properties:null)\n",
      "INFO  : Completed compiling command(queryId=hive_20211129121515_27052a3d-f1de-490f-a3eb-2af271025797); Time taken: 0.25 seconds\n",
      "INFO  : Concurrency mode is disabled, not creating a lock manager\n",
      "INFO  : Executing command(queryId=hive_20211129121515_27052a3d-f1de-490f-a3eb-2af271025797): CREATE TABLE IF NOT EXISTS cultivableLand\n",
      "(\n",
      "Country_Name string,\n",
      "Country_Code string,\n",
      "Indicator_Name string,\n",
      "Indicator_Code string,\n",
      "y1960 float, y1961 float, y1962 float, y1963 float, y1964 float, y1965 float, y1966 float, y1967 float, y1968 float, y1969 float,\n",
      "y1970 float, y1971 float, y1972 float, y1973 float, y1974 float, y1975 float, y1976 float, y1977 float, y1978 float, y1979 float,\n",
      "y1980 float, y1981 float, y1982 float, y1983 float, y1984 float, y1985 float, y1986 float, y1987 float, y1988 float, y1989 float,\n",
      "y1990 float, y1991 float, y1992 float, y1993 float, y1994 float, y1995 float, y1996 float, y1997 float, y1998 float, y1999 float,\n",
      "y2000 float, y2001 float, y2002 float, y2003 float, y2004 float, y2005 float, y2006 float, y2007 float, y2008 float, y2009 float,\n",
      "y2010 float, y2011 float, y2012 float, y2013 float, y2014 float, y2015 float, y2016 float, y2017 float, y2018 float, y2019 float,\n",
      "y2020 float\n",
      ")\n",
      "COMMENT 'Cultivable Land Table'\n",
      "ROW FORMAT SERDE 'org.apache.hadoop.hive.serde2.OpenCSVSerde'\n",
      "INFO  : Starting task [Stage-0:DDL] in serial mode\n",
      "INFO  : Completed executing command(queryId=hive_20211129121515_27052a3d-f1de-490f-a3eb-2af271025797); Time taken: 0.456 seconds\n",
      "INFO  : OK\n",
      "No rows affected (0.743 seconds)\n",
      "0: jdbc:hive2://localhost:10000/default> \n",
      "Closing: 0: jdbc:hive2://localhost:10000/default\n"
     ]
    }
   ],
   "source": [
    "! beeline -u \"jdbc:hive2://localhost:10000/default\" -f textHive.hql"
   ]
  },
  {
   "cell_type": "markdown",
   "metadata": {},
   "source": [
    "\n",
    "Ahora creamos otra tabla \"poblacionRural\", con la misma estructura que la anterior y los mismos delimitadores. Tambien se utilizara la sentencia ROW FORMAT SERDE 'org.apache.hadoop.hive.serde2.OpenCSVSerde' para la correcta limpieza de la informacion del dataset\n",
    "\n",
    "Una vez se ha escrito la estructura de la tabla, se ejecuta con una orden Hive\n"
   ]
  },
  {
   "cell_type": "code",
   "execution_count": 10,
   "metadata": {},
   "outputs": [
    {
     "name": "stdout",
     "output_type": "stream",
     "text": [
      "Overwriting textHive.hql\n"
     ]
    }
   ],
   "source": [
    "%%writefile textHive.hql\n",
    "use projectDB;\n",
    "\n",
    "CREATE TABLE IF NOT EXISTS ruralPopulation\n",
    "(\n",
    "  Country_Name string,\n",
    "  Country_Code string,\n",
    "  Indicator_Name string,\n",
    "  Indicator_Code string,\n",
    "  y1960 float, y1961 float, y1962 float, y1963 float, y1964 float, y1965 float, y1966 float, y1967 float, y1968 float, y1969 float,\n",
    "  y1970 float, y1971 float, y1972 float, y1973 float, y1974 float, y1975 float, y1976 float, y1977 float, y1978 float, y1979 float,\n",
    "  y1980 float, y1981 float, y1982 float, y1983 float, y1984 float, y1985 float, y1986 float, y1987 float, y1988 float, y1989 float,\n",
    "  y1990 float, y1991 float, y1992 float, y1993 float, y1994 float, y1995 float, y1996 float, y1997 float, y1998 float, y1999 float,\n",
    "  y2000 float, y2001 float, y2002 float, y2003 float, y2004 float, y2005 float, y2006 float, y2007 float, y2008 float, y2009 float, \n",
    "  y2010 float, y2011 float, y2012 float, y2013 float, y2014 float, y2015 float, y2016 float, y2017 float, y2018 float, y2019 float,\n",
    "  y2020 float   \n",
    ")\n",
    "COMMENT 'Rural Population Table'\n",
    "ROW FORMAT SERDE 'org.apache.hadoop.hive.serde2.OpenCSVSerde';\n"
   ]
  },
  {
   "cell_type": "code",
   "execution_count": 11,
   "metadata": {},
   "outputs": [
    {
     "name": "stdout",
     "output_type": "stream",
     "text": [
      "scan complete in 6ms\n",
      "Connecting to jdbc:hive2://localhost:10000/default\n",
      "Connected to: Apache Hive (version 1.1.0-cdh5.12.0)\n",
      "Driver: Hive JDBC (version 1.1.0-cdh5.12.0)\n",
      "Transaction isolation: TRANSACTION_REPEATABLE_READ\n",
      "0: jdbc:hive2://localhost:10000/default> use projectDB;\n",
      "INFO  : Compiling command(queryId=hive_20211129121717_c36f3d97-5484-4d93-8399-c317905fd627): use projectDB\n",
      "INFO  : Semantic Analysis Completed\n",
      "INFO  : Returning Hive schema: Schema(fieldSchemas:null, properties:null)\n",
      "INFO  : Completed compiling command(queryId=hive_20211129121717_c36f3d97-5484-4d93-8399-c317905fd627); Time taken: 0.295 seconds\n",
      "INFO  : Concurrency mode is disabled, not creating a lock manager\n",
      "INFO  : Executing command(queryId=hive_20211129121717_c36f3d97-5484-4d93-8399-c317905fd627): use projectDB\n",
      "INFO  : Starting task [Stage-0:DDL] in serial mode\n",
      "INFO  : Completed executing command(queryId=hive_20211129121717_c36f3d97-5484-4d93-8399-c317905fd627); Time taken: 0.029 seconds\n",
      "INFO  : OK\n",
      "No rows affected (0.47 seconds)\n",
      "0: jdbc:hive2://localhost:10000/default> \n",
      "ionjdbc:hive2://localhost:10000/default> CREATE TABLE IF NOT EXISTS ruralPopulat \n",
      ". . . . . . . . . . . . . . . . . . . .> (\n",
      ". . . . . . . . . . . . . . . . . . . .>   Country_Name string,\n",
      ". . . . . . . . . . . . . . . . . . . .>   Country_Code string,\n",
      ". . . . . . . . . . . . . . . . . . . .>   Indicator_Name string,\n",
      ". . . . . . . . . . . . . . . . . . . .>   Indicator_Code string,\n",
      "y1969 float,t, y1964 float, y1965 float, y1966 float, y1967 float, y1968 float,  \n",
      "y1979 float,t, y1974 float, y1975 float, y1976 float, y1977 float, y1978 float,  \n",
      "y1989 float,. . . . . . . . . . . . . .>   y1980 float, y1981 float, y1982 float  y1983 float, y1984 float, y1985 float, y1986 float, y1987 float, y1988 float,  \n",
      "y1999 float,t, y1994 float, y1995 float, y1996 float, y1997 float, y1998 float,  \n",
      "y2009 float, , y2004 float, y2005 float, y2006 f float, y2001 float, y2002 float loat, y2007 float, y2008 float,  \n",
      "y2019 float,t, y2014 float, y2015 float, y2016 float, y2017 float, y2018 float,  \n",
      ". . . . . . . . . . . . . . . . . . . .>   y2020 float   \n",
      ". . . . . . . . . . . . . . . . . . . .> )\n",
      ". . . . . . . . . . . . . . . . . . . .> COMMENT 'Rural Population Table'\n",
      "e.serde2.OpenCSVSerde'; . . . . . . . .> ROW FORMAT SERDE 'org.apache.hadoop.hiv \n",
      "INFO  : Compiling command(queryId=hive_20211129121717_c29f63f1-667d-4321-b7e0-8261a90f7029): CREATE TABLE IF NOT EXISTS ruralPopulation\n",
      "(\n",
      "Country_Name string,\n",
      "Country_Code string,\n",
      "Indicator_Name string,\n",
      "Indicator_Code string,\n",
      "y1960 float, y1961 float, y1962 float, y1963 float, y1964 float, y1965 float, y1966 float, y1967 float, y1968 float, y1969 float,\n",
      "y1970 float, y1971 float, y1972 float, y1973 float, y1974 float, y1975 float, y1976 float, y1977 float, y1978 float, y1979 float,\n",
      "y1980 float, y1981 float, y1982 float, y1983 float, y1984 float, y1985 float, y1986 float, y1987 float, y1988 float, y1989 float,\n",
      "y1990 float, y1991 float, y1992 float, y1993 float, y1994 float, y1995 float, y1996 float, y1997 float, y1998 float, y1999 float,\n",
      "y2000 float, y2001 float, y2002 float, y2003 float, y2004 float, y2005 float, y2006 float, y2007 float, y2008 float, y2009 float,\n",
      "y2010 float, y2011 float, y2012 float, y2013 float, y2014 float, y2015 float, y2016 float, y2017 float, y2018 float, y2019 float,\n",
      "y2020 float\n",
      ")\n",
      "COMMENT 'Rural Population Table'\n",
      "ROW FORMAT SERDE 'org.apache.hadoop.hive.serde2.OpenCSVSerde'\n",
      "INFO  : Semantic Analysis Completed\n",
      "INFO  : Returning Hive schema: Schema(fieldSchemas:null, properties:null)\n",
      "INFO  : Completed compiling command(queryId=hive_20211129121717_c29f63f1-667d-4321-b7e0-8261a90f7029); Time taken: 0.042 seconds\n",
      "INFO  : Concurrency mode is disabled, not creating a lock manager\n",
      "INFO  : Executing command(queryId=hive_20211129121717_c29f63f1-667d-4321-b7e0-8261a90f7029): CREATE TABLE IF NOT EXISTS ruralPopulation\n",
      "(\n",
      "Country_Name string,\n",
      "Country_Code string,\n",
      "Indicator_Name string,\n",
      "Indicator_Code string,\n",
      "y1960 float, y1961 float, y1962 float, y1963 float, y1964 float, y1965 float, y1966 float, y1967 float, y1968 float, y1969 float,\n",
      "y1970 float, y1971 float, y1972 float, y1973 float, y1974 float, y1975 float, y1976 float, y1977 float, y1978 float, y1979 float,\n",
      "y1980 float, y1981 float, y1982 float, y1983 float, y1984 float, y1985 float, y1986 float, y1987 float, y1988 float, y1989 float,\n",
      "y1990 float, y1991 float, y1992 float, y1993 float, y1994 float, y1995 float, y1996 float, y1997 float, y1998 float, y1999 float,\n",
      "y2000 float, y2001 float, y2002 float, y2003 float, y2004 float, y2005 float, y2006 float, y2007 float, y2008 float, y2009 float,\n",
      "y2010 float, y2011 float, y2012 float, y2013 float, y2014 float, y2015 float, y2016 float, y2017 float, y2018 float, y2019 float,\n",
      "y2020 float\n",
      ")\n",
      "COMMENT 'Rural Population Table'\n",
      "ROW FORMAT SERDE 'org.apache.hadoop.hive.serde2.OpenCSVSerde'\n",
      "INFO  : Starting task [Stage-0:DDL] in serial mode\n",
      "INFO  : Completed executing command(queryId=hive_20211129121717_c29f63f1-667d-4321-b7e0-8261a90f7029); Time taken: 0.216 seconds\n",
      "INFO  : OK\n",
      "No rows affected (0.305 seconds)\n",
      "0: jdbc:hive2://localhost:10000/default> \n",
      "Closing: 0: jdbc:hive2://localhost:10000/default\n"
     ]
    }
   ],
   "source": [
    "! beeline -u \"jdbc:hive2://localhost:10000/default\" -f textHive.hql"
   ]
  },
  {
   "cell_type": "markdown",
   "metadata": {},
   "source": [
    "We can check if both of these tables habe been properly created by executing the following command line"
   ]
  },
  {
   "cell_type": "code",
   "execution_count": 12,
   "metadata": {},
   "outputs": [
    {
     "name": "stdout",
     "output_type": "stream",
     "text": [
      "scan complete in 4ms\n",
      "Connecting to jdbc:hive2://localhost:10000/default\n",
      "Connected to: Apache Hive (version 1.1.0-cdh5.12.0)\n",
      "Driver: Hive JDBC (version 1.1.0-cdh5.12.0)\n",
      "Transaction isolation: TRANSACTION_REPEATABLE_READ\n",
      "INFO  : Compiling command(queryId=hive_20211129121818_c53fede9-cfcd-4575-b40b-9b951c20fd71): use projectDB\n",
      "INFO  : Semantic Analysis Completed\n",
      "INFO  : Returning Hive schema: Schema(fieldSchemas:null, properties:null)\n",
      "INFO  : Completed compiling command(queryId=hive_20211129121818_c53fede9-cfcd-4575-b40b-9b951c20fd71); Time taken: 0.208 seconds\n",
      "INFO  : Concurrency mode is disabled, not creating a lock manager\n",
      "INFO  : Executing command(queryId=hive_20211129121818_c53fede9-cfcd-4575-b40b-9b951c20fd71): use projectDB\n",
      "INFO  : Starting task [Stage-0:DDL] in serial mode\n",
      "INFO  : Completed executing command(queryId=hive_20211129121818_c53fede9-cfcd-4575-b40b-9b951c20fd71); Time taken: 0.018 seconds\n",
      "INFO  : OK\n",
      "No rows affected (0.316 seconds)\n",
      "INFO  : Compiling command(queryId=hive_20211129121818_52a2d07f-3910-4ceb-a6af-01ab4bb1d448): show tables\n",
      "INFO  : Semantic Analysis Completed\n",
      "INFO  : Returning Hive schema: Schema(fieldSchemas:[FieldSchema(name:tab_name, type:string, comment:from deserializer)], properties:null)\n",
      "INFO  : Completed compiling command(queryId=hive_20211129121818_52a2d07f-3910-4ceb-a6af-01ab4bb1d448); Time taken: 0.496 seconds\n",
      "INFO  : Concurrency mode is disabled, not creating a lock manager\n",
      "INFO  : Executing command(queryId=hive_20211129121818_52a2d07f-3910-4ceb-a6af-01ab4bb1d448): show tables\n",
      "INFO  : Starting task [Stage-0:DDL] in serial mode\n",
      "INFO  : Completed executing command(queryId=hive_20211129121818_52a2d07f-3910-4ceb-a6af-01ab4bb1d448); Time taken: 0.098 seconds\n",
      "INFO  : OK\n",
      "+------------------+--+\n",
      "|     tab_name     |\n",
      "+------------------+--+\n",
      "| cultivableland   |\n",
      "| ruralpopulation  |\n",
      "+------------------+--+\n",
      "2 rows selected (0.975 seconds)\n",
      "Beeline version 1.1.0-cdh5.12.0 by Apache Hive\n",
      "Closing: 0: jdbc:hive2://localhost:10000/default\n"
     ]
    }
   ],
   "source": [
    "! beeline -u \"jdbc:hive2://localhost:10000/default\" -e \"use projectDB; show tables;\""
   ]
  },
  {
   "cell_type": "markdown",
   "metadata": {},
   "source": [
    "*-*-*-*-*-*-*-*-*-*-*-*-*-*-*-*-*-*-*-*-*-*-*-*-*-*-*-*-*-*-*-*-*-*-*-*-*-*-*-*-*-*-*-*-*-*-*-*-*-*-*-*-*-*-*-*-"
   ]
  },
  {
   "cell_type": "markdown",
   "metadata": {},
   "source": [
    "## Load the datasets into the tables"
   ]
  },
  {
   "cell_type": "markdown",
   "metadata": {
    "collapsed": true
   },
   "source": [
    "Create a new folder and move both datasets into the folder"
   ]
  },
  {
   "cell_type": "code",
   "execution_count": 13,
   "metadata": {
    "collapsed": true
   },
   "outputs": [],
   "source": [
    "! hadoop fs -mkdir -p /user/cloudera/datasetFolder"
   ]
  },
  {
   "cell_type": "code",
   "execution_count": 14,
   "metadata": {
    "collapsed": true
   },
   "outputs": [],
   "source": [
    "! hadoop fs -put /home/cloudera/API_AG.LND.ARBL.HA.PC_DS2_es_csv_v2_2593504.csv /user/cloudera/datasetFolder"
   ]
  },
  {
   "cell_type": "code",
   "execution_count": 15,
   "metadata": {
    "collapsed": true
   },
   "outputs": [],
   "source": [
    "! hadoop fs -put /home/cloudera/API_SP.RUR.TOTL.ZS_DS2_es_csv_v2_2601419.csv /user/cloudera/datasetFolder"
   ]
  },
  {
   "cell_type": "code",
   "execution_count": 16,
   "metadata": {},
   "outputs": [
    {
     "name": "stdout",
     "output_type": "stream",
     "text": [
      "Found 2 items\r\n",
      "-rw-r--r--   1 cloudera cloudera     267352 2021-11-29 12:21 /user/cloudera/datasetFolder/API_AG.LND.ARBL.HA.PC_DS2_es_csv_v2_2593504.csv\r\n",
      "-rw-r--r--   1 cloudera cloudera     159352 2021-11-29 12:22 /user/cloudera/datasetFolder/API_SP.RUR.TOTL.ZS_DS2_es_csv_v2_2601419.csv\r\n"
     ]
    }
   ],
   "source": [
    "! hadoop fs -ls /user/cloudera/datasetFolder"
   ]
  },
  {
   "cell_type": "markdown",
   "metadata": {},
   "source": [
    "Once we check that the datasets are properly stored in the folder, they can be loaded into the tables"
   ]
  },
  {
   "cell_type": "code",
   "execution_count": 17,
   "metadata": {},
   "outputs": [
    {
     "name": "stdout",
     "output_type": "stream",
     "text": [
      "scan complete in 3ms\n",
      "Connecting to jdbc:hive2://localhost:10000/projectDB\n",
      "Connected to: Apache Hive (version 1.1.0-cdh5.12.0)\n",
      "Driver: Hive JDBC (version 1.1.0-cdh5.12.0)\n",
      "Transaction isolation: TRANSACTION_REPEATABLE_READ\n",
      "INFO  : Compiling command(queryId=hive_20211129122424_afc07ef3-e4db-4486-b040-6c8f4d3e5397): LOAD DATA INPATH '/user/cloudera/datasetFolder/API_AG.LND.ARBL.HA.PC_DS2_es_csv_v2_2593504.csv' INTO TABLE cultivableLand\n",
      "INFO  : Semantic Analysis Completed\n",
      "INFO  : Returning Hive schema: Schema(fieldSchemas:null, properties:null)\n",
      "INFO  : Completed compiling command(queryId=hive_20211129122424_afc07ef3-e4db-4486-b040-6c8f4d3e5397); Time taken: 0.436 seconds\n",
      "INFO  : Concurrency mode is disabled, not creating a lock manager\n",
      "INFO  : Executing command(queryId=hive_20211129122424_afc07ef3-e4db-4486-b040-6c8f4d3e5397): LOAD DATA INPATH '/user/cloudera/datasetFolder/API_AG.LND.ARBL.HA.PC_DS2_es_csv_v2_2593504.csv' INTO TABLE cultivableLand\n",
      "INFO  : Starting task [Stage-0:MOVE] in serial mode\n",
      "INFO  : Loading data to table projectdb.cultivableland from hdfs://quickstart.cloudera:8020/user/cloudera/datasetFolder/API_AG.LND.ARBL.HA.PC_DS2_es_csv_v2_2593504.csv\n",
      "INFO  : Starting task [Stage-1:STATS] in serial mode\n",
      "INFO  : Table projectdb.cultivableland stats: [numFiles=1, totalSize=267352]\n",
      "INFO  : Completed executing command(queryId=hive_20211129122424_afc07ef3-e4db-4486-b040-6c8f4d3e5397); Time taken: 1.482 seconds\n",
      "INFO  : OK\n",
      "No rows affected (2.026 seconds)\n",
      "Beeline version 1.1.0-cdh5.12.0 by Apache Hive\n",
      "Closing: 0: jdbc:hive2://localhost:10000/projectDB\n"
     ]
    }
   ],
   "source": [
    "! beeline -u \"jdbc:hive2://localhost:10000/projectDB\" -e \\\n",
    "\"LOAD DATA INPATH '/user/cloudera/datasetFolder/API_AG.LND.ARBL.HA.PC_DS2_es_csv_v2_2593504.csv' INTO TABLE cultivableLand;\""
   ]
  },
  {
   "cell_type": "code",
   "execution_count": 18,
   "metadata": {},
   "outputs": [
    {
     "name": "stdout",
     "output_type": "stream",
     "text": [
      "scan complete in 4ms\n",
      "Connecting to jdbc:hive2://localhost:10000/projectDB\n",
      "Connected to: Apache Hive (version 1.1.0-cdh5.12.0)\n",
      "Driver: Hive JDBC (version 1.1.0-cdh5.12.0)\n",
      "Transaction isolation: TRANSACTION_REPEATABLE_READ\n",
      "INFO  : Compiling command(queryId=hive_20211129122525_5944da10-0b5a-4cfb-898a-0d01ad589796): LOAD DATA INPATH '/user/cloudera/datasetFolder/API_SP.RUR.TOTL.ZS_DS2_es_csv_v2_2601419.csv' INTO TABLE ruralPopulation\n",
      "INFO  : Semantic Analysis Completed\n",
      "INFO  : Returning Hive schema: Schema(fieldSchemas:null, properties:null)\n",
      "INFO  : Completed compiling command(queryId=hive_20211129122525_5944da10-0b5a-4cfb-898a-0d01ad589796); Time taken: 0.292 seconds\n",
      "INFO  : Concurrency mode is disabled, not creating a lock manager\n",
      "INFO  : Executing command(queryId=hive_20211129122525_5944da10-0b5a-4cfb-898a-0d01ad589796): LOAD DATA INPATH '/user/cloudera/datasetFolder/API_SP.RUR.TOTL.ZS_DS2_es_csv_v2_2601419.csv' INTO TABLE ruralPopulation\n",
      "INFO  : Starting task [Stage-0:MOVE] in serial mode\n",
      "INFO  : Loading data to table projectdb.ruralpopulation from hdfs://quickstart.cloudera:8020/user/cloudera/datasetFolder/API_SP.RUR.TOTL.ZS_DS2_es_csv_v2_2601419.csv\n",
      "INFO  : Starting task [Stage-1:STATS] in serial mode\n",
      "INFO  : Table projectdb.ruralpopulation stats: [numFiles=1, totalSize=159352]\n",
      "INFO  : Completed executing command(queryId=hive_20211129122525_5944da10-0b5a-4cfb-898a-0d01ad589796); Time taken: 0.775 seconds\n",
      "INFO  : OK\n",
      "No rows affected (1.169 seconds)\n",
      "Beeline version 1.1.0-cdh5.12.0 by Apache Hive\n",
      "Closing: 0: jdbc:hive2://localhost:10000/projectDB\n"
     ]
    }
   ],
   "source": [
    "! beeline -u \"jdbc:hive2://localhost:10000/projectDB\" -e \\\n",
    "\"LOAD DATA INPATH '/user/cloudera/datasetFolder/API_SP.RUR.TOTL.ZS_DS2_es_csv_v2_2601419.csv' INTO TABLE ruralPopulation;\""
   ]
  },
  {
   "cell_type": "markdown",
   "metadata": {},
   "source": [
    "In order to check that the data has been properly loaded into the tables, we can formulate some queries and see if the correct information is retrieved"
   ]
  },
  {
   "cell_type": "code",
   "execution_count": 1,
   "metadata": {},
   "outputs": [
    {
     "name": "stdout",
     "output_type": "stream",
     "text": [
      "scan complete in 4ms\n",
      "Connecting to jdbc:hive2://localhost:10000/projectDB\n",
      "Connected to: Apache Hive (version 1.1.0-cdh5.12.0)\n",
      "Driver: Hive JDBC (version 1.1.0-cdh5.12.0)\n",
      "Transaction isolation: TRANSACTION_REPEATABLE_READ\n",
      "INFO  : Compiling command(queryId=hive_20211129144040_44775dd0-02ff-4e32-a08f-63f16179435f): SELECT Country_Name, y1977 FROM cultivableLand\n",
      "INFO  : Semantic Analysis Completed\n",
      "INFO  : Returning Hive schema: Schema(fieldSchemas:[FieldSchema(name:country_name, type:string, comment:null), FieldSchema(name:y1977, type:string, comment:null)], properties:null)\n",
      "INFO  : Completed compiling command(queryId=hive_20211129144040_44775dd0-02ff-4e32-a08f-63f16179435f); Time taken: 2.2 seconds\n",
      "INFO  : Concurrency mode is disabled, not creating a lock manager\n",
      "INFO  : Executing command(queryId=hive_20211129144040_44775dd0-02ff-4e32-a08f-63f16179435f): SELECT Country_Name, y1977 FROM cultivableLand\n",
      "INFO  : Completed executing command(queryId=hive_20211129144040_44775dd0-02ff-4e32-a08f-63f16179435f); Time taken: 0.047 seconds\n",
      "INFO  : OK\n",
      "+----------------------------------------------------+--------------------+--+\n",
      "|                    country_name                    |       y1977        |\n",
      "+----------------------------------------------------+--------------------+--+\n",
      "| Aruba                                              | 0.033131232813173  |\n",
      "|                                                    | 0.353057803560976  |\n",
      "| Afganistán                                         | 0.600548435104402  |\n",
      "|                                                    | 0.426088468103926  |\n",
      "| Angola                                             | 0.384931191558486  |\n",
      "| Albania                                            | 0.230749705794125  |\n",
      "| Andorra                                            | 0.030516646830846  |\n",
      "| El mundo árabe                                     | 0.273303194611246  |\n",
      "| Emiratos Árabes Unidos                             | 0.016318826350009  |\n",
      "| Argentina                                          | 0.975192710269458  |\n",
      "| Armenia                                            |                    |\n",
      "| Samoa Americana                                    | 0.032431731205812  |\n",
      "| Antigua y Barbuda                                  | 0.048260995463466  |\n",
      "| Australia                                          | 1.04587091319053   |\n",
      "| Austria                                            | 0.202023405118367  |\n",
      "| Azerbaiyán                                         |                    |\n",
      "| Burundi                                            | 0.244393098255884  |\n",
      "| Bélgica                                            | 0.099386004049903  |\n",
      "| Benin                                              | 0.4164913082924    |\n",
      "| Burkina Faso                                       | 0.406317740785847  |\n",
      "| Bangladesh                                         | 0.124292858913122  |\n",
      "| Bulgaria                                           | 0.447173803634023  |\n",
      "| Bahrein                                            | 0.006596980561997  |\n",
      "| Bahamas                                            | 0.035514967021816  |\n",
      "| Bosnia y Herzegovina                               |                    |\n",
      "| Belarús                                            |                    |\n",
      "| Belice                                             | 0.313891524928827  |\n",
      "| Bermudas                                           | 0.00561797752809   |\n",
      "| Bolivia                                            | 0.352890344059478  |\n",
      "| Brasil                                             | 0.349663001397407  |\n",
      "| Barbados                                           | 0.064274839212473  |\n",
      "| Brunei Darussalam                                  | 0.022894165994151  |\n",
      "| Bhután                                             | 0.323080899457224  |\n",
      "| Botswana                                           | 0.500916890267972  |\n",
      "| República Centroafricana                           | 0.901998809753744  |\n",
      "| Canadá                                             | 1.66299675842919   |\n",
      "| Europa Central y del Báltico                       |                    |\n",
      "| Suiza                                              | 0.058890264781711  |\n",
      "| Islas del Canal                                    | 0.03145000235875   |\n",
      "| Chile                                              | 0.374904660234298  |\n",
      "| China                                              | 0.103256293834894  |\n",
      "| Côte d'Ivoire                                      | 0.26755864266362   |\n",
      "| Camerún                                            | 0.718345356257332  |\n",
      "| Congo, República Democrática del                   | 0.272587132724407  |\n",
      "| Congo, República del                               | 0.324081860131671  |\n",
      "| Colombia                                           | 0.145681161558103  |\n",
      "| Comoras                                            | 0.235590044327173  |\n",
      "| Cabo Verde                                         | 0.139023542539375  |\n",
      "| Costa Rica                                         | 0.128308709849122  |\n",
      "| Estados pequeos del Caribe                         | 0.1444386681548    |\n",
      "| Cuba                                               | 0.314218886680291  |\n",
      "| Curacao                                            |                    |\n",
      "| Islas Caimán                                       | 0.014442518775274  |\n",
      "| Chipre                                             | 0.16828920499879   |\n",
      "| República Checa                                    |                    |\n",
      "| Alemania                                           | 0.154439978580297  |\n",
      "| Djibouti                                           | 0.003603967247146  |\n",
      "| Dominica                                           | 0.095312010674945  |\n",
      "| Dinamarca                                          | 0.518235624857151  |\n",
      "| República Dominicana                               | 0.183079192291589  |\n",
      "| Argelia                                            | 0.392654248881257  |\n",
      "| Asia oriental y el Pacífico (excluido altos ingresos) | 0.122651943133858  |\n",
      "| inicial del dividendo demográfico                  | 0.269922787900583  |\n",
      "| Asia oriental y el Pacífico                        | 0.123895096718431  |\n",
      "| Europa y Asia central (excluido altos ingresos)    |                    |\n",
      "| Europa y Asia central                              |                    |\n",
      "| Ecuador                                            | 0.223464806933856  |\n",
      "| Egipto, República Árabe de                         | 0.061964430135899  |\n",
      "| Zona del Euro                                      | 0.234554345757518  |\n",
      "| Eritrea                                            |                    |\n",
      "| España                                             | 0.428082684211538  |\n",
      "| Estonia                                            |                    |\n",
      "| Etiopía                                            | 0.388060483827736  |\n",
      "| Unión Europea                                      | 0.283367154320596  |\n",
      "| Frágiles y situaciones de conflicto afectados      | 0.371103904697369  |\n",
      "| Finlandia                                          | 0.510371389828277  |\n",
      "| Fiji                                               | 0.142069433510669  |\n",
      "| Francia                                            | 0.316976798124555  |\n",
      "| Islas Feroe                                        | 0.071203094961194  |\n",
      "| Micronesia (Estados Federados de)                  |                    |\n",
      "| Gabón                                              | 0.403688500348976  |\n",
      "| Reino Unido                                        | 0.123163728639608  |\n",
      "| Georgia                                            |                    |\n",
      "| Ghana                                              | 0.173152627403539  |\n",
      "| Gibraltar                                          |                    |\n",
      "| Guinea                                             | 0.683102460400257  |\n",
      "| Gambia                                             | 0.294752537906043  |\n",
      "| Guinea-Bissau                                      | 0.330425588157547  |\n",
      "| Guinea Ecuatorial                                  | 0.536835150313842  |\n",
      "| Grecia                                             | 0.308106190066068  |\n",
      "| Granada                                            | 0.044336558817987  |\n",
      "| Groenlandia                                        |                    |\n",
      "| Guatemala                                          | 0.19492669742558   |\n",
      "| Guam                                               | 0.020517660576341  |\n",
      "| Guyana                                             | 0.55349779125526   |\n",
      "| Ingreso alto                                       | 0.408909327777148  |\n",
      "| Hong Kong, Región Administrativa Especial          | 0.001745314920261  |\n",
      "| Honduras                                           | 0.448278690358131  |\n",
      "| Países pobres muy endeudados (PPME)                | 0.412679115791689  |\n",
      "| Croacia                                            |                    |\n",
      "+----------------------------------------------------+--------------------+--+\n",
      "|                    country_name                    |       y1977        |\n",
      "+----------------------------------------------------+--------------------+--+\n",
      "| Haití                                              | 0.145430507354156  |\n",
      "| Hungría                                            | 0.476238282927614  |\n",
      "| Sólo BIRF                                          | 0.21171445616626   |\n",
      "| BIRF y la AIF                                      | 0.234371971670941  |\n",
      "| total de la AIF                                    | 0.338565407469753  |\n",
      "| mezcla de la AIF                                   | 0.36790330678126   |\n",
      "| Indonesia                                          | 0.131120736943414  |\n",
      "| Sólo AIF                                           | 0.324697329423622  |\n",
      "| Isla de Man                                        | 0.348903562403196  |\n",
      "| India                                              | 0.248401015506895  |\n",
      "| No clasificado                                     |                    |\n",
      "| Irlanda                                            | 0.360428980561818  |\n",
      "| Irán, República Islámica del                       | 0.430106093315236  |\n",
      "| Iraq                                               | 0.409242164557237  |\n",
      "| Islandia                                           | 0.581607671810964  |\n",
      "| Israel                                             | 0.089952947688901  |\n",
      "| Italia                                             | 0.167258176336155  |\n",
      "| Jamaica                                            | 0.069683932903504  |\n",
      "| Jordania                                           | 0.13490192767513   |\n",
      "| Japón                                              | 0.043127371083322  |\n",
      "| Kazajstán                                          |                    |\n",
      "| Kenya                                              | 0.259582576189023  |\n",
      "| Kirguistán                                         |                    |\n",
      "| Camboya                                            | 0.264034034264947  |\n",
      "| Kiribati                                           | 0.035236702549375  |\n",
      "| Saint Kitts y Nevis                                | 0.182049881667577  |\n",
      "| Corea, República de                                | 0.056767319490841  |\n",
      "| Kuwait                                             | 0.000866871884137  |\n",
      "| América Latina y el Caribe (excluido altos ingresos) | 0.33970200770476   |\n",
      "| República Democrática Popular Lao                  | 0.2455483205611    |\n",
      "| Líbano                                             | 0.087633862646989  |\n",
      "| Liberia                                            | 0.21924705479108   |\n",
      "| Libia                                              | 0.608939227865059  |\n",
      "| Santa Lucía                                        | 0.044371478013933  |\n",
      "| América Latina y el Caribe                         | 0.338188487717987  |\n",
      "| Países menos desarrollados: clasificación de las Naciones Unidas | 0.322562529091335  |\n",
      "| Países de ingreso bajo                             | 0.397401018867419  |\n",
      "| Liechtenstein                                      | 0.163592491104658  |\n",
      "| Sri Lanka                                          | 0.066556929469622  |\n",
      "| Países de ingreso mediano bajo                     | 0.245102888197689  |\n",
      "| Ingreso mediano y bajo                             | 0.231133424207143  |\n",
      "| Lesotho                                            | 0.23442708218867   |\n",
      "| avanzada del dividendo demográfico                 | 0.158191459887436  |\n",
      "| Lituania                                           |                    |\n",
      "| Luxemburgo                                         |                    |\n",
      "| Letonia                                            |                    |\n",
      "| Región Administrativa Especial de Macao, China     |                    |\n",
      "| Isla de San Martín (parte francesa)                |                    |\n",
      "| Marruecos                                          | 0.400105541934364  |\n",
      "| Mónaco                                             |                    |\n",
      "| República de Moldova                               |                    |\n",
      "| Madagascar                                         | 0.305445366976417  |\n",
      "| Maldivas                                           | 0.020743301642178  |\n",
      "| Oriente Medio y Norte de África                    | 0.30458947034302   |\n",
      "| México                                             | 0.282838015287059  |\n",
      "| Islas Marshall                                     |                    |\n",
      "|  Ingreso mediano                                   | 0.21992511979538   |\n",
      "| Macedonia del Norte                                |                    |\n",
      "| Malí                                               | 0.300196639972754  |\n",
      "| Malta                                              | 0.042349415252305  |\n",
      "| Myanmar                                            | 0.298188251894947  |\n",
      "| Oriente Medio y Norte de África (excluido altos ingresos) | 0.321576569900897  |\n",
      "| Montenegro                                         |                    |\n",
      "| Mongolia                                           | 0.704132038839923  |\n",
      "| Mariana                                            |                    |\n",
      "| Mozambique                                         | 0.267261806872335  |\n",
      "| Mauritania                                         | 0.138894892707239  |\n",
      "| Mauricio                                           | 0.108532970688501  |\n",
      "| Malawi                                             | 0.349775461642399  |\n",
      "| Malasia                                            | 0.083480365179492  |\n",
      "| América del Norte                                  | 0.926194276384491  |\n",
      "| Namibia                                            | 0.658640119642884  |\n",
      "| Nueva Caledonia                                    | 0.051470588235294  |\n",
      "| Níger                                              | 1.77995242533542   |\n",
      "| Nigeria                                            | 0.306697006124744  |\n",
      "| Nicaragua                                          | 0.355051783967737  |\n",
      "| Países Bajos                                       | 0.055931701258319  |\n",
      "| Noruega                                            | 0.197368176978412  |\n",
      "| Nepal                                              | 0.158605299840646  |\n",
      "| Nauru                                              |                    |\n",
      "| Nueva Zelandia                                     | 0.876866867508493  |\n",
      "| Miembros OCDE                                      | 0.416096234122326  |\n",
      "| Omán                                               | 0.023522096452868  |\n",
      "| Otros Estados pequeos                              | 0.279778596527297  |\n",
      "| Pakistán                                           | 0.431803707220852  |\n",
      "| Panamá                                             | 0.236151406787666  |\n",
      "| Perú                                               | 0.190856092599464  |\n",
      "| Filipinas                                          | 0.116893614090402  |\n",
      "| Palau                                              |                    |\n",
      "| Papua Nueva Guinea                                 | 0.043601535258503  |\n",
      "| Polonia                                            | 0.424889122071662  |\n",
      "| previa al dividendo demográfico                    | 0.399732729836766  |\n",
      "| Puerto Rico                                        | 0.031081137958164  |\n",
      "| Corea, República Popular Democrática de            | 0.130979138119168  |\n",
      "| Portugal                                           | 0.257834580820513  |\n",
      "| Paraguay                                           | 0.432604037864775  |\n",
      "| Ribera Occidental y Gaza                           |                    |\n",
      "| Estados pequeos de las Islas del Pacfico           |                    |\n",
      "| posterior al dividendo demográfico                 | 0.422940835227189  |\n",
      "| Polinesia Francesa                                 | 0.014296641004196  |\n",
      "+----------------------------------------------------+--------------------+--+\n",
      "|                    country_name                    |       y1977        |\n",
      "+----------------------------------------------------+--------------------+--+\n",
      "| Qatar                                              | 0.010969783730714  |\n",
      "| Rumania                                            | 0.449575144364136  |\n",
      "| Federación de Rusia                                |                    |\n",
      "| Rwanda                                             | 0.153585545860214  |\n",
      "| Asia meridional                                    | 0.253973469155894  |\n",
      "| Arabia Saudita                                     | 0.211996181631993  |\n",
      "| Sudán                                              |                    |\n",
      "| Senegal                                            | 0.602913632236194  |\n",
      "| Singapur                                           | 0.000860104072593  |\n",
      "| Islas Salomón                                      | 0.052913870649638  |\n",
      "| Sierra Leona                                       | 0.137202204192836  |\n",
      "| El Salvador                                        | 0.10948608155307   |\n",
      "| San Marino                                         | 0.049026817669265  |\n",
      "| Somalia                                            | 0.201785289623322  |\n",
      "| Serbia                                             |                    |\n",
      "| África al sur del Sahara (excluido altos ingresos) | 0.384619116691201  |\n",
      "| Sudán del Sur                                      |                    |\n",
      "| África al sur del Sahara                           | 0.384550763891161  |\n",
      "| Pequeños Estados                                   | 0.226953440565452  |\n",
      "| Santo Tomé y Príncipe                              | 0.011350480125309  |\n",
      "| Suriname                                           | 0.100657348405839  |\n",
      "| República Eslovaca                                 |                    |\n",
      "| Eslovenia                                          |                    |\n",
      "| Suecia                                             | 0.362356602525104  |\n",
      "| Eswatini                                           | 0.279942057630488  |\n",
      "| Sint Maarten (Dutch part)                          |                    |\n",
      "| Seychelles                                         | 0.016184896254815  |\n",
      "| República Árabe Siria                              | 0.630594150448376  |\n",
      "| Islas Turcas y Caicos                              | 0.139024051160851  |\n",
      "| Chad                                               | 0.727338186641324  |\n",
      "| Asia oriental y el Pacífico (BIRF y la AIF)        | 0.122544967684051  |\n",
      "| Europa y Asia central (BIRF y la AIF)              |                    |\n",
      "| Togo                                               | 0.714724191905034  |\n",
      "| Tailandia                                          | 0.355200523678124  |\n",
      "| Tayikistán                                         |                    |\n",
      "| Turkmenistán                                       |                    |\n",
      "| América Latina y el Caribe (BIRF y la AIF)         | 0.342394778563433  |\n",
      "| Timor-Leste                                        | 0.14520414896655   |\n",
      "| Oriente Medio y Norte de África (BIRF y la AIF)    | 0.321576569900897  |\n",
      "| Tonga                                              | 0.177267640900076  |\n",
      "| Asia meridional (BIRF y la AIF)                    | 0.253973469155894  |\n",
      "| África al sur del Sahara (BIRF y la AIF)           | 0.384550763891161  |\n",
      "| Trinidad y Tobago                                  | 0.062547512052424  |\n",
      "| Túnez                                              | 0.59578125385349   |\n",
      "| Turquía                                            | 0.609682377933988  |\n",
      "| Tuvalu                                             |                    |\n",
      "| Tanzanía                                           | 0.414073237251779  |\n",
      "| Uganda                                             | 0.353868869549491  |\n",
      "| Ucrania                                            |                    |\n",
      "| Ingreso mediano alto                               | 0.195110405802374  |\n",
      "| Uruguay                                            | 0.533434513213005  |\n",
      "| Estados Unidos                                     | 0.847043439172898  |\n",
      "| Uzbekistán                                         |                    |\n",
      "| San Vicente y las Granadinas                       | 0.051172882466124  |\n",
      "| Venezuela                                          | 0.212254366950993  |\n",
      "| Islas Vírgenes Británicas                          | 0.183099880985077  |\n",
      "| Islas Vírgenes (EE.UU.)                            | 0.053646341855949  |\n",
      "| Viet Nam                                           | 0.117574968690258  |\n",
      "| Vanuatu                                            | 0.160066286273845  |\n",
      "| Mundo                                              | 0.27127872765465   |\n",
      "| Samoa                                              | 0.097899724575442  |\n",
      "| Kosovo                                             |                    |\n",
      "| Yemen, Rep. del                                    | 0.189867986725121  |\n",
      "| Sudáfrica                                          | 0.474681482871721  |\n",
      "| Zambia                                             | 0.544865442254476  |\n",
      "| Zimbabwe                                           | 0.367207546748202  |\n",
      "+----------------------------------------------------+--------------------+--+\n"
     ]
    },
    {
     "name": "stdout",
     "output_type": "stream",
     "text": [
      "266 rows selected (3.611 seconds)\n",
      "Beeline version 1.1.0-cdh5.12.0 by Apache Hive\n",
      "Closing: 0: jdbc:hive2://localhost:10000/projectDB\n"
     ]
    }
   ],
   "source": [
    "! beeline -u \"jdbc:hive2://localhost:10000/projectDB\" -e \"SELECT Country_Name, y1977 FROM cultivableLand;\""
   ]
  },
  {
   "cell_type": "code",
   "execution_count": 2,
   "metadata": {},
   "outputs": [
    {
     "name": "stdout",
     "output_type": "stream",
     "text": [
      "scan complete in 3ms\n",
      "Connecting to jdbc:hive2://localhost:10000/projectDB\n",
      "Connected to: Apache Hive (version 1.1.0-cdh5.12.0)\n",
      "Driver: Hive JDBC (version 1.1.0-cdh5.12.0)\n",
      "Transaction isolation: TRANSACTION_REPEATABLE_READ\n",
      "INFO  : Compiling command(queryId=hive_20211129144242_0a7adee3-2da0-487e-9ced-efae0e9be9fb): SELECT Country_Name, Country_Code, y2014 FROM ruralPopulation\n",
      "INFO  : Semantic Analysis Completed\n",
      "INFO  : Returning Hive schema: Schema(fieldSchemas:[FieldSchema(name:country_name, type:string, comment:null), FieldSchema(name:country_code, type:string, comment:null), FieldSchema(name:y2014, type:string, comment:null)], properties:null)\n",
      "INFO  : Completed compiling command(queryId=hive_20211129144242_0a7adee3-2da0-487e-9ced-efae0e9be9fb); Time taken: 0.488 seconds\n",
      "INFO  : Concurrency mode is disabled, not creating a lock manager\n",
      "INFO  : Executing command(queryId=hive_20211129144242_0a7adee3-2da0-487e-9ced-efae0e9be9fb): SELECT Country_Name, Country_Code, y2014 FROM ruralPopulation\n",
      "INFO  : Completed executing command(queryId=hive_20211129144242_0a7adee3-2da0-487e-9ced-efae0e9be9fb); Time taken: 0.001 seconds\n",
      "INFO  : OK\n",
      "+----------------------------------------------------+---------------+-------------------+--+\n",
      "|                    country_name                    | country_code  |       y2014       |\n",
      "+----------------------------------------------------+---------------+-------------------+--+\n",
      "| Aruba                                              | ABW           | 56.959            |\n",
      "|                                                    | AFE           | 66.0475756414397  |\n",
      "| Afganistán                                         | AFG           | 75.413            |\n",
      "|                                                    | AFW           | 55.8428690387667  |\n",
      "| Angola                                             | AGO           | 37.269            |\n",
      "| Albania                                            | ALB           | 43.577            |\n",
      "| Andorra                                            | AND           | 11.559            |\n",
      "| El mundo árabe                                     | ARB           | 42.3076745267113  |\n",
      "| Emiratos Árabes Unidos                             | ARE           | 14.625            |\n",
      "| Argentina                                          | ARG           | 8.623             |\n",
      "| Armenia                                            | ARM           | 36.888            |\n",
      "| Samoa Americana                                    | ASM           | 12.712            |\n",
      "| Antigua y Barbuda                                  | ATG           | 74.825            |\n",
      "| Australia                                          | AUS           | 14.398            |\n",
      "| Austria                                            | AUT           | 42.474            |\n",
      "| Azerbaiyán                                         | AZE           | 45.578            |\n",
      "| Burundi                                            | BDI           | 88.224            |\n",
      "| Bélgica                                            | BEL           | 2.167             |\n",
      "| Benin                                              | BEN           | 54.834            |\n",
      "| Burkina Faso                                       | BFA           | 73.066            |\n",
      "| Bangladesh                                         | BGD           | 66.465            |\n",
      "| Bulgaria                                           | BGR           | 26.349            |\n",
      "| Bahrein                                            | BHR           | 11.085            |\n",
      "| Bahamas                                            | BHS           | 17.332            |\n",
      "| Bosnia y Herzegovina                               | BIH           | 53.16             |\n",
      "| Belarús                                            | BLR           | 23.307            |\n",
      "| Belice                                             | BLZ           | 54.665            |\n",
      "| Bermudas                                           | BMU           | 0                 |\n",
      "| Bolivia                                            | BOL           | 31.953            |\n",
      "| Brasil                                             | BRA           | 14.508            |\n",
      "| Barbados                                           | BRB           | 68.672            |\n",
      "| Brunei Darussalam                                  | BRN           | 23.668            |\n",
      "| Bhután                                             | BTN           | 62.082            |\n",
      "| Botswana                                           | BWA           | 33.632            |\n",
      "| República Centroafricana                           | CAF           | 60.041            |\n",
      "| Canadá                                             | CAN           | 18.782            |\n",
      "| Europa Central y del Báltico                       | CEB           | 37.8863548572262  |\n",
      "| Suiza                                              | CHE           | 26.304            |\n",
      "| Islas del Canal                                    | CHI           | 69.005            |\n",
      "| Chile                                              | CHL           | 12.697            |\n",
      "| China                                              | CHN           | 45.741            |\n",
      "| Côte d'Ivoire                                      | CIV           | 50.986            |\n",
      "| Camerún                                            | CMR           | 46.024            |\n",
      "| Congo, República Democrática del                   | COD           | 57.82             |\n",
      "| Congo, República del                               | COG           | 34.915            |\n",
      "| Colombia                                           | COL           | 20.585            |\n",
      "| Comoras                                            | COM           | 71.662            |\n",
      "| Cabo Verde                                         | CPV           | 36.19             |\n",
      "| Costa Rica                                         | CRI           | 24.059            |\n",
      "| Estados pequeos del Caribe                         | CSS           | 49.3198950151273  |\n",
      "| Cuba                                               | CUB           | 23.139            |\n",
      "| Curacao                                            | CUW           | 10.557            |\n",
      "| Islas Caimán                                       | CYM           | 0                 |\n",
      "| Chipre                                             | CYP           | 32.969            |\n",
      "| República Checa                                    | CZE           | 26.616            |\n",
      "| Alemania                                           | DEU           | 22.81             |\n",
      "| Djibouti                                           | DJI           | 22.686            |\n",
      "| Dominica                                           | DMA           | 30.72             |\n",
      "| Dinamarca                                          | DNK           | 12.59             |\n",
      "| República Dominicana                               | DOM           | 22.33             |\n",
      "| Argelia                                            | DZA           | 29.779            |\n",
      "| Asia oriental y el Pacífico (excluido altos ingresos) | EAP           | 48.3144383985231  |\n",
      "| inicial del dividendo demográfico                  | EAR           | 56.469311705087   |\n",
      "| Asia oriental y el Pacífico                        | EAS           | 44.4475542646946  |\n",
      "| Europa y Asia central (excluido altos ingresos)    | ECA           | 33.6935302913077  |\n",
      "| Europa y Asia central                              | ECS           | 28.5344738966475  |\n",
      "| Ecuador                                            | ECU           | 36.739            |\n",
      "| Egipto, República Árabe de                         | EGY           | 57.161            |\n",
      "| Zona del Euro                                      | EMU           | 23.8719005320428  |\n",
      "| Eritrea                                            | ERI           |                   |\n",
      "| España                                             | ESP           | 20.634            |\n",
      "| Estonia                                            | EST           | 31.731            |\n",
      "| Etiopía                                            | ETH           | 81.002            |\n",
      "| Unión Europea                                      | EUU           | 26.2821514217514  |\n",
      "| Frágiles y situaciones de conflicto afectados      | FCS           | 57.2052986350187  |\n",
      "| Finlandia                                          | FIN           | 14.825            |\n",
      "| Fiji                                               | FJI           | 45.784            |\n",
      "| Francia                                            | FRA           | 20.606            |\n",
      "| Islas Feroe                                        | FRO           | 58.499            |\n",
      "| Micronesia (Estados Federados de)                  | FSM           | 77.601            |\n",
      "| Gabón                                              | GAB           | 12.349            |\n",
      "| Reino Unido                                        | GBR           | 17.635            |\n",
      "| Georgia                                            | GEO           | 42.933            |\n",
      "| Ghana                                              | GHA           | 46.581            |\n",
      "| Gibraltar                                          | GIB           | 0                 |\n",
      "| Guinea                                             | GIN           | 65.164            |\n",
      "| Gambia                                             | GMB           | 41.472            |\n",
      "| Guinea-Bissau                                      | GNB           | 58.285            |\n",
      "| Guinea Ecuatorial                                  | GNQ           | 29.917            |\n",
      "| Grecia                                             | GRC           | 22.298            |\n",
      "| Granada                                            | GRD           | 64.062            |\n",
      "| Groenlandia                                        | GRL           | 14.187            |\n",
      "| Guatemala                                          | GTM           | 50.366            |\n",
      "| Guam                                               | GUM           | 5.551             |\n",
      "| Guyana                                             | GUY           | 73.586            |\n",
      "| Ingreso alto                                       | HIC           | 19.3229337619119  |\n",
      "| Hong Kong, Región Administrativa Especial          | HKG           | 0                 |\n",
      "| Honduras                                           | HND           | 45.486            |\n",
      "| Países pobres muy endeudados (PPME)                | HPC           | 65.7986996348794  |\n",
      "| Croacia                                            | HRV           | 44.077            |\n",
      "+----------------------------------------------------+---------------+-------------------+--+\n",
      "|                    country_name                    | country_code  |       y2014       |\n",
      "+----------------------------------------------------+---------------+-------------------+--+\n",
      "| Haití                                              | HTI           | 48.556            |\n",
      "| Hungría                                            | HUN           | 29.773            |\n",
      "| Sólo BIRF                                          | IBD           | 47.4590549883504  |\n",
      "| BIRF y la AIF                                      | IBT           | 51.7353944510893  |\n",
      "| total de la AIF                                    | IDA           | 64.9364705278593  |\n",
      "| mezcla de la AIF                                   | IDB           | 59.6232578394625  |\n",
      "| Indonesia                                          | IDN           | 47.365            |\n",
      "| Sólo AIF                                           | IDX           | 67.6246165392866  |\n",
      "| Isla de Man                                        | IMN           | 47.838            |\n",
      "| India                                              | IND           | 67.616            |\n",
      "| No clasificado                                     | INX           |                   |\n",
      "| Irlanda                                            | IRL           | 37.66             |\n",
      "| Irán, República Islámica del                       | IRN           | 27.17             |\n",
      "| Iraq                                               | IRQ           | 30.242            |\n",
      "| Islandia                                           | ISL           | 6.333             |\n",
      "| Israel                                             | ISR           | 7.896             |\n",
      "| Italia                                             | ITA           | 30.728            |\n",
      "| Jamaica                                            | JAM           | 45.416            |\n",
      "| Jordania                                           | JOR           | 10                |\n",
      "| Japón                                              | JPN           | 8.696             |\n",
      "| Kazajstán                                          | KAZ           | 42.882            |\n",
      "| Kenya                                              | KEN           | 74.779            |\n",
      "| Kirguistán                                         | KGZ           | 64.365            |\n",
      "| Camboya                                            | KHM           | 78.201            |\n",
      "| Kiribati                                           | KIR           | 49.227            |\n",
      "| Saint Kitts y Nevis                                | KNA           | 69.115            |\n",
      "| Corea, República de                                | KOR           | 18.293            |\n",
      "| Kuwait                                             | KWT           | 0                 |\n",
      "| América Latina y el Caribe (excluido altos ingresos) | LAC           | 20.6807304836107  |\n",
      "| República Democrática Popular Lao                  | LAO           | 67.513            |\n",
      "| Líbano                                             | LBN           | 12.053            |\n",
      "| Liberia                                            | LBR           | 50.603            |\n",
      "| Libia                                              | LBY           | 20.991            |\n",
      "| Santa Lucía                                        | LCA           | 81.518            |\n",
      "| América Latina y el Caribe                         | LCN           | 20.3699396315124  |\n",
      "| Países menos desarrollados: clasificación de las Naciones Unidas | LDC           | 68.5112872342641  |\n",
      "| Países de ingreso bajo                             | LIC           | 68.9055545409797  |\n",
      "| Liechtenstein                                      | LIE           | 85.687            |\n",
      "| Sri Lanka                                          | LKA           | 81.782            |\n",
      "| Países de ingreso mediano bajo                     | LMC           | 60.4203865165749  |\n",
      "| Ingreso mediano y bajo                             | LMY           | 51.8329546703189  |\n",
      "| Lesotho                                            | LSO           | 73.498            |\n",
      "| avanzada del dividendo demográfico                 | LTE           | 41.0627981478912  |\n",
      "| Lituania                                           | LTU           | 32.892            |\n",
      "| Luxemburgo                                         | LUX           | 10.116            |\n",
      "| Letonia                                            | LVA           | 32.048            |\n",
      "| Región Administrativa Especial de Macao, China     | MAC           | 0                 |\n",
      "| Isla de San Martín (parte francesa)                | MAF           |                   |\n",
      "| Marruecos                                          | MAR           | 39.744            |\n",
      "| Mónaco                                             | MCO           | 0                 |\n",
      "| República de Moldova                               | MDA           | 57.504            |\n",
      "| Madagascar                                         | MDG           | 65.466            |\n",
      "| Maldivas                                           | MDV           | 61.894            |\n",
      "| Oriente Medio y Norte de África                    | MEA           | 35.9999544753327  |\n",
      "| México                                             | MEX           | 21.007            |\n",
      "| Islas Marshall                                     | MHL           | 24.616            |\n",
      "|  Ingreso mediano                                   | MIC           | 50.0664397517837  |\n",
      "| Macedonia del Norte                                | MKD           | 42.716            |\n",
      "| Malí                                               | MLI           | 60.804            |\n",
      "| Malta                                              | MLT           | 5.65300000000001  |\n",
      "| Myanmar                                            | MMR           | 70.35             |\n",
      "| Oriente Medio y Norte de África (excluido altos ingresos) | MNA           | 39.758422477587   |\n",
      "| Montenegro                                         | MNE           | 34.529            |\n",
      "| Mongolia                                           | MNG           | 31.837            |\n",
      "| Mariana                                            | MNP           | 8.727             |\n",
      "| Mozambique                                         | MOZ           | 66.122            |\n",
      "| Mauritania                                         | MRT           | 49.797            |\n",
      "| Mauricio                                           | MUS           | 58.889            |\n",
      "| Malawi                                             | MWI           | 83.868            |\n",
      "| Malasia                                            | MYS           | 26.423            |\n",
      "| América del Norte                                  | NAC           | 18.540128049178   |\n"
     ]
    },
    {
     "name": "stdout",
     "output_type": "stream",
     "text": [
      "| Namibia                                            | NAM           | 54.174            |\r\n",
      "| Nueva Caledonia                                    | NCL           | 31.069            |\r\n",
      "| Níger                                              | NER           | 83.781            |\r\n",
      "| Nigeria                                            | NGA           | 53.018            |\r\n",
      "| Nicaragua                                          | NIC           | 42.3              |\r\n",
      "| Países Bajos                                       | NLD           | 10.31             |\r\n",
      "| Noruega                                            | NOR           | 19.308            |\r\n",
      "| Nepal                                              | NPL           | 81.818            |\r\n",
      "| Nauru                                              | NRU           | 0                 |\r\n",
      "| Nueva Zelandia                                     | NZL           | 13.719            |\r\n",
      "| Miembros OCDE                                      | OED           | 20.2071513831427  |\r\n",
      "| Omán                                               | OMN           | 19.855            |\r\n",
      "| Otros Estados pequeos                              | OSS           | 39.9452298992901  |\r\n",
      "| Pakistán                                           | PAK           | 64.181            |\r\n",
      "| Panamá                                             | PAN           | 33.629            |\r\n",
      "| Perú                                               | PER           | 22.827            |\r\n",
      "| Filipinas                                          | PHL           | 53.907            |\r\n",
      "| Palau                                              | PLW           | 22.483            |\r\n",
      "| Papua Nueva Guinea                                 | PNG           | 87.012            |\r\n",
      "| Polonia                                            | POL           | 39.597            |\r\n",
      "| previa al dividendo demográfico                    | PRE           | 60.9502551017195  |\r\n",
      "| Puerto Rico                                        | PRI           | 6.349             |\r\n",
      "| Corea, República Popular Democrática de            | PRK           | 38.902            |\r\n",
      "| Portugal                                           | PRT           | 37.064            |\r\n",
      "| Paraguay                                           | PRY           | 39.526            |\r\n",
      "| Ribera Occidental y Gaza                           | PSE           | 24.887            |\r\n",
      "| Estados pequeos de las Islas del Pacfico           | PSS           | 62.2392035361287  |\r\n",
      "| posterior al dividendo demográfico                 | PST           | 19.4269256306614  |\r\n",
      "| Polinesia Francesa                                 | PYF           | 38.367            |\r\n",
      "+----------------------------------------------------+---------------+-------------------+--+\r\n",
      "|                    country_name                    | country_code  |       y2014       |\r\n",
      "+----------------------------------------------------+---------------+-------------------+--+\r\n",
      "| Qatar                                              | QAT           | 1.13200000000001  |\r\n",
      "| Rumania                                            | ROU           | 46.1              |\r\n",
      "| Federación de Rusia                                | RUS           | 26.05             |\r\n",
      "| Rwanda                                             | RWA           | 83.033            |\r\n",
      "| Asia meridional                                    | SAS           | 67.6631520691106  |\r\n",
      "| Arabia Saudita                                     | SAU           | 17.04             |\r\n",
      "| Sudán                                              | SDN           | 66.311            |\r\n",
      "| Senegal                                            | SEN           | 54.564            |\r\n",
      "| Singapur                                           | SGP           | 0                 |\r\n",
      "| Islas Salomón                                      | SLB           | 78.104            |\r\n",
      "| Sierra Leona                                       | SLE           | 59.568            |\r\n",
      "| El Salvador                                        | SLV           | 31.126            |\r\n",
      "| San Marino                                         | SMR           | 3.441             |\r\n",
      "| Somalia                                            | SOM           | 57.321            |\r\n",
      "| Serbia                                             | SRB           | 44.417            |\r\n",
      "| África al sur del Sahara (excluido altos ingresos) | SSA           | 61.9325360207849  |\r\n",
      "| Sudán del Sur                                      | SSD           | 81.374            |\r\n",
      "| África al sur del Sahara                           | SSF           | 61.9309424461734  |\r\n",
      "| Pequeños Estados                                   | SST           | 43.0895885036565  |\r\n",
      "| Santo Tomé y Príncipe                              | STP           | 30.787            |\r\n",
      "| Suriname                                           | SUR           | 33.911            |\r\n",
      "| República Eslovaca                                 | SVK           | 46                |\r\n",
      "| Eslovenia                                          | SVN           | 46.443            |\r\n",
      "| Suecia                                             | SWE           | 13.753            |\r\n",
      "| Eswatini                                           | SWZ           | 76.851            |\r\n",
      "| Sint Maarten (Dutch part)                          | SXM           | 0                 |\r\n",
      "| Seychelles                                         | SYC           | 45.031            |\r\n",
      "| República Árabe Siria                              | SYR           | 48.5              |\r\n",
      "| Islas Turcas y Caicos                              | TCA           | 8.149             |\r\n",
      "| Chad                                               | TCD           | 77.628            |\r\n",
      "| Asia oriental y el Pacífico (BIRF y la AIF)        | TEA           | 48.4329711124977  |\r\n",
      "| Europa y Asia central (BIRF y la AIF)              | TEC           | 34.2926544361279  |\r\n",
      "| Togo                                               | TGO           | 60.421            |\r\n",
      "| Tailandia                                          | THA           | 53.057            |\r\n",
      "| Tayikistán                                         | TJK           | 73.345            |\r\n",
      "| Turkmenistán                                       | TKM           | 50.079            |\r\n",
      "| América Latina y el Caribe (BIRF y la AIF)         | TLA           | 20.3807839548991  |\r\n",
      "| Timor-Leste                                        | TLS           | 70.867            |\r\n",
      "| Oriente Medio y Norte de África (BIRF y la AIF)    | TMN           | 39.9340151611582  |\r\n",
      "| Tonga                                              | TON           | 76.672            |\r\n",
      "| Asia meridional (BIRF y la AIF)                    | TSA           | 67.6631520691106  |\r\n",
      "| África al sur del Sahara (BIRF y la AIF)           | TSS           | 61.9309424461734  |\r\n",
      "| Trinidad y Tobago                                  | TTO           | 46.587            |\r\n",
      "| Túnez                                              | TUN           | 32.228            |\r\n",
      "| Turquía                                            | TUR           | 26.923            |\r\n",
      "| Tuvalu                                             | TUV           | 41.214            |\r\n",
      "| Tanzanía                                           | TZA           | 69.096            |\r\n",
      "| Uganda                                             | UGA           | 78.496            |\r\n",
      "| Ucrania                                            | UKR           | 31.032            |\r\n",
      "| Ingreso mediano alto                               | UMC           | 37.1125737772275  |\r\n",
      "| Uruguay                                            | URY           | 5.05500000000001  |\r\n",
      "| Estados Unidos                                     | USA           | 18.517            |\r\n",
      "| Uzbekistán                                         | UZB           | 49.15             |\r\n",
      "| San Vicente y las Granadinas                       | VCT           | 49.442            |\r\n",
      "| Venezuela                                          | VEN           | 11.856            |\r\n",
      "| Islas Vírgenes Británicas                          | VGB           | 53.784            |\r\n",
      "| Islas Vírgenes (EE.UU.)                            | VIR           | 4.78700000000001  |\r\n",
      "| Viet Nam                                           | VNM           | 66.885            |\r\n",
      "| Vanuatu                                            | VUT           | 75.139            |\r\n",
      "| Mundo                                              | WLD           | 46.5417135083224  |\r\n",
      "| Samoa                                              | WSM           | 80.851            |\r\n",
      "| Kosovo                                             | XKX           |                   |\r\n",
      "| Yemen, Rep. del                                    | YEM           | 65.835            |\r\n",
      "| Sudáfrica                                          | ZAF           | 35.688            |\r\n",
      "| Zambia                                             | ZMB           | 58.618            |\r\n",
      "| Zimbabwe                                           | ZWE           | 67.496            |\r\n",
      "+----------------------------------------------------+---------------+-------------------+--+\r\n",
      "266 rows selected (0.971 seconds)\r\n"
     ]
    },
    {
     "name": "stdout",
     "output_type": "stream",
     "text": [
      "Beeline version 1.1.0-cdh5.12.0 by Apache Hive\r\n",
      "Closing: 0: jdbc:hive2://localhost:10000/projectDB\r\n"
     ]
    }
   ],
   "source": [
    "! beeline -u \"jdbc:hive2://localhost:10000/projectDB\" -e \"SELECT Country_Name, Country_Code, y2014 FROM ruralPopulation;\""
   ]
  },
  {
   "cell_type": "markdown",
   "metadata": {},
   "source": [
    "*-*-*-*-*-*-*-*-*-*-*-*-*-*-*-*-*-*-*-*-*-*-*-*-*-*-*-*-*-*-*-*-*-*-*-*-*-*-*-*-*-*-*-*-*-*-*-*-*-*-*-*-*-*-*-*-"
   ]
  },
  {
   "cell_type": "markdown",
   "metadata": {},
   "source": [
    "## Create a view on the tables"
   ]
  },
  {
   "cell_type": "markdown",
   "metadata": {},
   "source": [
    "We'll create a view on the tables containing, for each country, it's name, code, rural population on 2018 and cultivable land on 2018."
   ]
  },
  {
   "cell_type": "code",
   "execution_count": 4,
   "metadata": {},
   "outputs": [
    {
     "name": "stdout",
     "output_type": "stream",
     "text": [
      "Overwriting textHive.hql\n"
     ]
    }
   ],
   "source": [
    "%%writefile textHive.hql\n",
    "use projectDB;\n",
    "\n",
    "CREATE OR REPLACE VIEW tablesView AS \n",
    "SELECT  cultivableLand.Country_Name, \n",
    "        cultivableLand.Country_Code,\n",
    "        cultivableLand.y2018 as cultivableLand2018,\n",
    "        ruralPopulation.y2018 as ruralPopulation2018        \n",
    "         \n",
    "FROM cultivableLand JOIN ruralPopulation ON (cultivableLand.Country_Code = ruralPopulation.Country_Code);\n",
    "    \n",
    "      \n"
   ]
  },
  {
   "cell_type": "code",
   "execution_count": 5,
   "metadata": {},
   "outputs": [
    {
     "name": "stdout",
     "output_type": "stream",
     "text": [
      "scan complete in 4ms\n",
      "Connecting to jdbc:hive2://localhost:10000/default\n",
      "Connected to: Apache Hive (version 1.1.0-cdh5.12.0)\n",
      "Driver: Hive JDBC (version 1.1.0-cdh5.12.0)\n",
      "Transaction isolation: TRANSACTION_REPEATABLE_READ\n",
      "0: jdbc:hive2://localhost:10000/default> use projectDB;\n",
      "INFO  : Compiling command(queryId=hive_20211129144949_dbaf0cdc-83b4-436e-886e-b9d23dda47cc): use projectDB\n",
      "INFO  : Semantic Analysis Completed\n",
      "INFO  : Returning Hive schema: Schema(fieldSchemas:null, properties:null)\n",
      "INFO  : Completed compiling command(queryId=hive_20211129144949_dbaf0cdc-83b4-436e-886e-b9d23dda47cc); Time taken: 0.318 seconds\n",
      "INFO  : Concurrency mode is disabled, not creating a lock manager\n",
      "INFO  : Executing command(queryId=hive_20211129144949_dbaf0cdc-83b4-436e-886e-b9d23dda47cc): use projectDB\n",
      "INFO  : Starting task [Stage-0:DDL] in serial mode\n",
      "INFO  : Completed executing command(queryId=hive_20211129144949_dbaf0cdc-83b4-436e-886e-b9d23dda47cc); Time taken: 0.057 seconds\n",
      "INFO  : OK\n",
      "No rows affected (0.506 seconds)\n",
      "0: jdbc:hive2://localhost:10000/default> \n",
      "0: jdbc:hive2://localhost:10000/default> CREATE OR REPLACE VIEW tablesView AS \n",
      ". . . . . . . . . . . . . . . . . . . .> SELECT  cultivableLand.Country_Name, \n",
      ". . . . . . . . . . . . . . . . . . . .>         cultivableLand.Country_Code,\n",
      "bleLand2018,. . . . . . . . . . . . . .>         cultivableLand.y2018 as cultiva \n",
      "opulation2018         . . . . . . . . .>         ruralPopulation.y2018 as ruralP \n",
      ". . . . . . . . . . . . . . . . . . . .>          \n",
      "n ON (c . . . . . . . . . . . . . . . .> FROM cultivableLand JOIN ruralPopulatio ultivableLand.Country_Code = ruralPopulation.Country_Code);\n",
      "INFO  : Compiling command(queryId=hive_20211129144949_db22e125-71da-4a66-a0f3-ebf579515689): CREATE OR REPLACE VIEW tablesView AS\n",
      "SELECT  cultivableLand.Country_Name,\n",
      "cultivableLand.Country_Code,\n",
      "cultivableLand.y2018 as cultivableLand2018,\n",
      "ruralPopulation.y2018 as ruralPopulation2018\n",
      "FROM cultivableLand JOIN ruralPopulation ON (cultivableLand.Country_Code = ruralPopulation.Country_Code)\n",
      "INFO  : Semantic Analysis Completed\n",
      "INFO  : Returning Hive schema: Schema(fieldSchemas:[FieldSchema(name:country_name, type:string, comment:null), FieldSchema(name:country_code, type:string, comment:null), FieldSchema(name:cultivableland2018, type:string, comment:null), FieldSchema(name:ruralpopulation2018, type:string, comment:null)], properties:null)\n",
      "INFO  : Completed compiling command(queryId=hive_20211129144949_db22e125-71da-4a66-a0f3-ebf579515689); Time taken: 0.438 seconds\n",
      "INFO  : Concurrency mode is disabled, not creating a lock manager\n",
      "INFO  : Executing command(queryId=hive_20211129144949_db22e125-71da-4a66-a0f3-ebf579515689): CREATE OR REPLACE VIEW tablesView AS\n",
      "SELECT  cultivableLand.Country_Name,\n",
      "cultivableLand.Country_Code,\n",
      "cultivableLand.y2018 as cultivableLand2018,\n",
      "ruralPopulation.y2018 as ruralPopulation2018\n",
      "FROM cultivableLand JOIN ruralPopulation ON (cultivableLand.Country_Code = ruralPopulation.Country_Code)\n",
      "INFO  : Starting task [Stage-0:DDL] in serial mode\n",
      "INFO  : Completed executing command(queryId=hive_20211129144949_db22e125-71da-4a66-a0f3-ebf579515689); Time taken: 0.405 seconds\n",
      "INFO  : OK\n",
      "No rows affected (0.88 seconds)\n",
      "0: jdbc:hive2://localhost:10000/default>     \n",
      "0: jdbc:hive2://localhost:10000/default>       \n",
      "0: jdbc:hive2://localhost:10000/default> \n",
      "Closing: 0: jdbc:hive2://localhost:10000/default\n"
     ]
    }
   ],
   "source": [
    "! beeline -u \"jdbc:hive2://localhost:10000/default\" -f textHive.hql"
   ]
  },
  {
   "cell_type": "markdown",
   "metadata": {},
   "source": [
    "Double check that the view has been created and that it contains the correct data"
   ]
  },
  {
   "cell_type": "code",
   "execution_count": 6,
   "metadata": {},
   "outputs": [
    {
     "name": "stdout",
     "output_type": "stream",
     "text": [
      "scan complete in 4ms\n",
      "Connecting to jdbc:hive2://localhost:10000/default\n",
      "Connected to: Apache Hive (version 1.1.0-cdh5.12.0)\n",
      "Driver: Hive JDBC (version 1.1.0-cdh5.12.0)\n",
      "Transaction isolation: TRANSACTION_REPEATABLE_READ\n",
      "INFO  : Compiling command(queryId=hive_20211129145050_c24710a2-8ad6-493a-98ac-dbff3ed99098): use projectDB\n",
      "INFO  : Semantic Analysis Completed\n",
      "INFO  : Returning Hive schema: Schema(fieldSchemas:null, properties:null)\n",
      "INFO  : Completed compiling command(queryId=hive_20211129145050_c24710a2-8ad6-493a-98ac-dbff3ed99098); Time taken: 0.227 seconds\n",
      "INFO  : Concurrency mode is disabled, not creating a lock manager\n",
      "INFO  : Executing command(queryId=hive_20211129145050_c24710a2-8ad6-493a-98ac-dbff3ed99098): use projectDB\n",
      "INFO  : Starting task [Stage-0:DDL] in serial mode\n",
      "INFO  : Completed executing command(queryId=hive_20211129145050_c24710a2-8ad6-493a-98ac-dbff3ed99098); Time taken: 0.018 seconds\n",
      "INFO  : OK\n",
      "No rows affected (0.326 seconds)\n",
      "INFO  : Compiling command(queryId=hive_20211129145050_73d352bf-b59a-4b0d-bb94-48b99ea6d598): show tables\n",
      "INFO  : Semantic Analysis Completed\n",
      "INFO  : Returning Hive schema: Schema(fieldSchemas:[FieldSchema(name:tab_name, type:string, comment:from deserializer)], properties:null)\n",
      "INFO  : Completed compiling command(queryId=hive_20211129145050_73d352bf-b59a-4b0d-bb94-48b99ea6d598); Time taken: 0.011 seconds\n",
      "INFO  : Concurrency mode is disabled, not creating a lock manager\n",
      "INFO  : Executing command(queryId=hive_20211129145050_73d352bf-b59a-4b0d-bb94-48b99ea6d598): show tables\n",
      "INFO  : Starting task [Stage-0:DDL] in serial mode\n",
      "INFO  : Completed executing command(queryId=hive_20211129145050_73d352bf-b59a-4b0d-bb94-48b99ea6d598); Time taken: 0.098 seconds\n",
      "INFO  : OK\n",
      "+------------------+--+\n",
      "|     tab_name     |\n",
      "+------------------+--+\n",
      "| cultivableland   |\n",
      "| ruralpopulation  |\n",
      "| tablesview       |\n",
      "+------------------+--+\n",
      "3 rows selected (0.219 seconds)\n",
      "Beeline version 1.1.0-cdh5.12.0 by Apache Hive\n",
      "Closing: 0: jdbc:hive2://localhost:10000/default\n"
     ]
    }
   ],
   "source": [
    "! beeline -u \"jdbc:hive2://localhost:10000/default\" -e \"use projectDB; show tables;\""
   ]
  },
  {
   "cell_type": "code",
   "execution_count": 7,
   "metadata": {},
   "outputs": [
    {
     "name": "stdout",
     "output_type": "stream",
     "text": [
      "scan complete in 3ms\n",
      "Connecting to jdbc:hive2://localhost:10000/projectDB\n",
      "Connected to: Apache Hive (version 1.1.0-cdh5.12.0)\n",
      "Driver: Hive JDBC (version 1.1.0-cdh5.12.0)\n",
      "Transaction isolation: TRANSACTION_REPEATABLE_READ\n",
      "INFO  : Compiling command(queryId=hive_20211129145252_017309ca-caa2-4c6d-b9ff-834779b0f884): select Country_Code, cultivableLand2018 from tablesView SORT BY Country_Code ASC LIMIT 5\n",
      "INFO  : Semantic Analysis Completed\n",
      "INFO  : Returning Hive schema: Schema(fieldSchemas:[FieldSchema(name:country_code, type:string, comment:null), FieldSchema(name:cultivableland2018, type:string, comment:null)], properties:null)\n",
      "INFO  : Completed compiling command(queryId=hive_20211129145252_017309ca-caa2-4c6d-b9ff-834779b0f884); Time taken: 0.851 seconds\n",
      "INFO  : Concurrency mode is disabled, not creating a lock manager\n",
      "INFO  : Executing command(queryId=hive_20211129145252_017309ca-caa2-4c6d-b9ff-834779b0f884): select Country_Code, cultivableLand2018 from tablesView SORT BY Country_Code ASC LIMIT 5\n",
      "INFO  : Query ID = hive_20211129145252_017309ca-caa2-4c6d-b9ff-834779b0f884\n",
      "INFO  : Total jobs = 2\n",
      "INFO  : Starting task [Stage-6:MAPREDLOCAL] in serial mode\n",
      "Execution log at: /var/log/hive/hive-server2.log\n",
      "2021-11-29 02:52:49\tStarting to launch local task to process map join;\tmaximum memory = 932184064\n",
      "2021-11-29 02:52:53\tDump the side-table for tag: 1 with group count: 266 into file: file:/tmp/hive/90436f27-a481-4976-8e3d-e46463f54f03/hive_2021-11-29_14-52-40_202_2694791057215536791-5/-local-10005/HashTable-Stage-2/MapJoin-mapfile01--.hashtable\n",
      "2021-11-29 02:52:53\tUploaded 1 File to: file:/tmp/hive/90436f27-a481-4976-8e3d-e46463f54f03/hive_2021-11-29_14-52-40_202_2694791057215536791-5/-local-10005/HashTable-Stage-2/MapJoin-mapfile01--.hashtable (5874 bytes)\n",
      "2021-11-29 02:52:53\tEnd of local task; Time Taken: 4.775 sec.\n",
      "INFO  : Execution completed successfully\n",
      "INFO  : MapredLocal task succeeded\n",
      "INFO  : Launching Job 1 out of 2\n",
      "INFO  : Starting task [Stage-2:MAPRED] in serial mode\n",
      "INFO  : Number of reduce tasks not specified. Estimated from input data size: 1\n",
      "INFO  : In order to change the average load for a reducer (in bytes):\n",
      "INFO  :   set hive.exec.reducers.bytes.per.reducer=<number>\n",
      "INFO  : In order to limit the maximum number of reducers:\n",
      "INFO  :   set hive.exec.reducers.max=<number>\n",
      "INFO  : In order to set a constant number of reducers:\n",
      "INFO  :   set mapreduce.job.reduces=<number>\n",
      "INFO  : Starting Job = job_1638225439316_0001, Tracking URL = http://quickstart.cloudera:8088/proxy/application_1638225439316_0001/\n",
      "INFO  : Kill Command = /usr/lib/hadoop/bin/hadoop job  -kill job_1638225439316_0001\n",
      "INFO  : Hadoop job information for Stage-2: number of mappers: 1; number of reducers: 1\n",
      "INFO  : 2021-11-29 14:53:19,780 Stage-2 map = 0%,  reduce = 0%\n",
      "INFO  : 2021-11-29 14:53:37,577 Stage-2 map = 100%,  reduce = 0%, Cumulative CPU 5.2 sec\n",
      "INFO  : 2021-11-29 14:53:49,672 Stage-2 map = 100%,  reduce = 100%, Cumulative CPU 7.77 sec\n",
      "INFO  : MapReduce Total cumulative CPU time: 7 seconds 770 msec\n",
      "INFO  : Ended Job = job_1638225439316_0001\n",
      "INFO  : Launching Job 2 out of 2\n",
      "INFO  : Starting task [Stage-3:MAPRED] in serial mode\n",
      "INFO  : Number of reduce tasks determined at compile time: 1\n",
      "INFO  : In order to change the average load for a reducer (in bytes):\n",
      "INFO  :   set hive.exec.reducers.bytes.per.reducer=<number>\n",
      "INFO  : In order to limit the maximum number of reducers:\n",
      "INFO  :   set hive.exec.reducers.max=<number>\n",
      "INFO  : In order to set a constant number of reducers:\n",
      "INFO  :   set mapreduce.job.reduces=<number>\n",
      "INFO  : Starting Job = job_1638225439316_0002, Tracking URL = http://quickstart.cloudera:8088/proxy/application_1638225439316_0002/\n",
      "INFO  : Kill Command = /usr/lib/hadoop/bin/hadoop job  -kill job_1638225439316_0002\n",
      "INFO  : Hadoop job information for Stage-3: number of mappers: 1; number of reducers: 1\n",
      "INFO  : 2021-11-29 14:54:02,790 Stage-3 map = 0%,  reduce = 0%\n",
      "INFO  : 2021-11-29 14:54:11,753 Stage-3 map = 100%,  reduce = 0%, Cumulative CPU 3.24 sec\n",
      "INFO  : 2021-11-29 14:54:21,655 Stage-3 map = 100%,  reduce = 100%, Cumulative CPU 6.02 sec\n",
      "INFO  : MapReduce Total cumulative CPU time: 6 seconds 20 msec\n",
      "INFO  : Ended Job = job_1638225439316_0002\n",
      "INFO  : MapReduce Jobs Launched: \n",
      "INFO  : Stage-Stage-2: Map: 1  Reduce: 1   Cumulative CPU: 7.77 sec   HDFS Read: 280896 HDFS Write: 291 SUCCESS\n",
      "INFO  : Stage-Stage-3: Map: 1  Reduce: 1   Cumulative CPU: 6.02 sec   HDFS Read: 5231 HDFS Write: 110 SUCCESS\n",
      "INFO  : Total MapReduce CPU Time Spent: 13 seconds 790 msec\n",
      "INFO  : Completed executing command(queryId=hive_20211129145252_017309ca-caa2-4c6d-b9ff-834779b0f884); Time taken: 101.789 seconds\n",
      "INFO  : OK\n",
      "+---------------+---------------------+--+\n",
      "| country_code  | cultivableland2018  |\n",
      "+---------------+---------------------+--+\n",
      "| ABW           | 0.018895376301419   |\n",
      "| AFE           | 0.184952194880822   |\n",
      "| AFG           | 0.207226303767666   |\n",
      "| AFW           | 0.233279287732645   |\n",
      "| AGO           | 0.159040372463464   |\n",
      "+---------------+---------------------+--+\n",
      "5 rows selected (102.857 seconds)\n",
      "Beeline version 1.1.0-cdh5.12.0 by Apache Hive\n",
      "Closing: 0: jdbc:hive2://localhost:10000/projectDB\n"
     ]
    }
   ],
   "source": [
    "! beeline -u \"jdbc:hive2://localhost:10000/projectDB\" -e \"select Country_Code, cultivableLand2018 from tablesView SORT BY Country_Code ASC LIMIT 5;\""
   ]
  },
  {
   "cell_type": "markdown",
   "metadata": {
    "collapsed": true
   },
   "source": [
    "*-*-*-*-*-*-*-*-*-*-*-*-*-*-*-*-*-*-*-*-*-*-*-*-*-*-*-*-*-*-*-*-*-*-*-*-*-*-*-*-*-*-*-*-*-*-*-*-*-*-*-*-*-*-*-*-"
   ]
  },
  {
   "cell_type": "markdown",
   "metadata": {
    "collapsed": true
   },
   "source": [
    "## Series of queries\n"
   ]
  },
  {
   "cell_type": "markdown",
   "metadata": {},
   "source": [
    "### Query 1: cultivable land in Suiza in 2018\n",
    "\n"
   ]
  },
  {
   "cell_type": "code",
   "execution_count": 8,
   "metadata": {},
   "outputs": [
    {
     "name": "stdout",
     "output_type": "stream",
     "text": [
      "scan complete in 4ms\n",
      "Connecting to jdbc:hive2://localhost:10000/projectDB\n",
      "Connected to: Apache Hive (version 1.1.0-cdh5.12.0)\n",
      "Driver: Hive JDBC (version 1.1.0-cdh5.12.0)\n",
      "Transaction isolation: TRANSACTION_REPEATABLE_READ\n",
      "INFO  : Compiling command(queryId=hive_20211129145757_92763c73-d2ba-4d5d-be56-8f977ecd60be): SELECT Country_Name, cultivableLand2018 FROM tablesView WHERE Country_Name = 'Suiza'\n",
      "INFO  : Semantic Analysis Completed\n",
      "INFO  : Returning Hive schema: Schema(fieldSchemas:[FieldSchema(name:country_name, type:string, comment:null), FieldSchema(name:cultivableland2018, type:string, comment:null)], properties:null)\n",
      "INFO  : Completed compiling command(queryId=hive_20211129145757_92763c73-d2ba-4d5d-be56-8f977ecd60be); Time taken: 1.178 seconds\n",
      "INFO  : Concurrency mode is disabled, not creating a lock manager\n",
      "INFO  : Executing command(queryId=hive_20211129145757_92763c73-d2ba-4d5d-be56-8f977ecd60be): SELECT Country_Name, cultivableLand2018 FROM tablesView WHERE Country_Name = 'Suiza'\n",
      "INFO  : Query ID = hive_20211129145757_92763c73-d2ba-4d5d-be56-8f977ecd60be\n",
      "INFO  : Total jobs = 1\n",
      "INFO  : Starting task [Stage-4:MAPREDLOCAL] in serial mode\n",
      "Execution log at: /var/log/hive/hive-server2.log\n",
      "2021-11-29 02:58:05\tStarting to launch local task to process map join;\tmaximum memory = 932184064\n",
      "2021-11-29 02:58:07\tDump the side-table for tag: 1 with group count: 266 into file: file:/tmp/hive/449a1c4b-96ad-4620-a069-13664a537e1e/hive_2021-11-29_14-57-59_563_5878340261108504303-5/-local-10003/HashTable-Stage-3/MapJoin-mapfile11--.hashtable\n",
      "2021-11-29 02:58:07\tUploaded 1 File to: file:/tmp/hive/449a1c4b-96ad-4620-a069-13664a537e1e/hive_2021-11-29_14-57-59_563_5878340261108504303-5/-local-10003/HashTable-Stage-3/MapJoin-mapfile11--.hashtable (5874 bytes)\n",
      "2021-11-29 02:58:07\tEnd of local task; Time Taken: 1.794 sec.\n",
      "INFO  : Execution completed successfully\n",
      "INFO  : MapredLocal task succeeded\n",
      "INFO  : Launching Job 1 out of 1\n",
      "INFO  : Starting task [Stage-3:MAPRED] in serial mode\n",
      "INFO  : Number of reduce tasks is set to 0 since there's no reduce operator\n",
      "INFO  : Starting Job = job_1638225439316_0003, Tracking URL = http://quickstart.cloudera:8088/proxy/application_1638225439316_0003/\n",
      "INFO  : Kill Command = /usr/lib/hadoop/bin/hadoop job  -kill job_1638225439316_0003\n",
      "INFO  : Hadoop job information for Stage-3: number of mappers: 1; number of reducers: 0\n",
      "INFO  : 2021-11-29 14:58:17,372 Stage-3 map = 0%,  reduce = 0%\n",
      "INFO  : 2021-11-29 14:58:29,359 Stage-3 map = 100%,  reduce = 0%, Cumulative CPU 4.52 sec\n",
      "INFO  : MapReduce Total cumulative CPU time: 4 seconds 520 msec\n",
      "INFO  : Ended Job = job_1638225439316_0003\n",
      "INFO  : MapReduce Jobs Launched: \n",
      "INFO  : Stage-Stage-3: Map: 1   Cumulative CPU: 4.52 sec   HDFS Read: 277269 HDFS Write: 24 SUCCESS\n",
      "INFO  : Total MapReduce CPU Time Spent: 4 seconds 520 msec\n",
      "INFO  : Completed executing command(queryId=hive_20211129145757_92763c73-d2ba-4d5d-be56-8f977ecd60be); Time taken: 29.763 seconds\n",
      "INFO  : OK\n",
      "+---------------+---------------------+--+\n",
      "| country_name  | cultivableland2018  |\n",
      "+---------------+---------------------+--+\n",
      "| Suiza         | 0.046761042473224   |\n",
      "+---------------+---------------------+--+\n",
      "1 row selected (31.129 seconds)\n",
      "Beeline version 1.1.0-cdh5.12.0 by Apache Hive\n",
      "Closing: 0: jdbc:hive2://localhost:10000/projectDB\n"
     ]
    }
   ],
   "source": [
    "! beeline -u \"jdbc:hive2://localhost:10000/projectDB\" -e \"SELECT Country_Name, cultivableLand2018 FROM tablesView WHERE Country_Name = 'Suiza';\""
   ]
  },
  {
   "cell_type": "markdown",
   "metadata": {
    "collapsed": true
   },
   "source": [
    "### Query 2: cultivable land of the country with the least rural population in 2010\n"
   ]
  },
  {
   "cell_type": "code",
   "execution_count": 10,
   "metadata": {},
   "outputs": [
    {
     "name": "stdout",
     "output_type": "stream",
     "text": [
      "scan complete in 3ms\n",
      "Connecting to jdbc:hive2://localhost:10000/projectDB\n",
      "Connected to: Apache Hive (version 1.1.0-cdh5.12.0)\n",
      "Driver: Hive JDBC (version 1.1.0-cdh5.12.0)\n",
      "Transaction isolation: TRANSACTION_REPEATABLE_READ\n",
      "INFO  : Compiling command(queryId=hive_20211129150303_40e141a9-bd92-403b-b9e1-1483e34d64f7): SELECT cultivableLand.Country_Name, cultivableLand.y2010, ruralPopulation.y2010 FROM cultivableLand JOIN ruralPopulation ON (cultivableLand.Country_Code = ruralPopulation.Country_Code) WHERE ruralPopulation.y2010 IS NOT NULL ORDER BY CAST (ruralPopulation.y2010 AS FLOAT) ASC LIMIT 20\n",
      "INFO  : Semantic Analysis Completed\n",
      "INFO  : Returning Hive schema: Schema(fieldSchemas:[FieldSchema(name:cultivableland.country_name, type:string, comment:null), FieldSchema(name:cultivableland.y2010, type:string, comment:null), FieldSchema(name:ruralpopulation.y2010, type:string, comment:null)], properties:null)\n",
      "INFO  : Completed compiling command(queryId=hive_20211129150303_40e141a9-bd92-403b-b9e1-1483e34d64f7); Time taken: 0.575 seconds\n",
      "INFO  : Concurrency mode is disabled, not creating a lock manager\n",
      "INFO  : Executing command(queryId=hive_20211129150303_40e141a9-bd92-403b-b9e1-1483e34d64f7): SELECT cultivableLand.Country_Name, cultivableLand.y2010, ruralPopulation.y2010 FROM cultivableLand JOIN ruralPopulation ON (cultivableLand.Country_Code = ruralPopulation.Country_Code) WHERE ruralPopulation.y2010 IS NOT NULL ORDER BY CAST (ruralPopulation.y2010 AS FLOAT) ASC LIMIT 20\n",
      "INFO  : Query ID = hive_20211129150303_40e141a9-bd92-403b-b9e1-1483e34d64f7\n",
      "INFO  : Total jobs = 1\n",
      "INFO  : Starting task [Stage-5:MAPREDLOCAL] in serial mode\n",
      "Execution log at: /var/log/hive/hive-server2.log\n",
      "2021-11-29 03:03:47\tStarting to launch local task to process map join;\tmaximum memory = 932184064\n",
      "2021-11-29 03:03:48\tDump the side-table for tag: 1 with group count: 266 into file: file:/tmp/hive/5050eeb3-dd7a-4b72-b429-ab5fcb7e7685/hive_2021-11-29_15-03-42_062_6099780346050726449-5/-local-10004/HashTable-Stage-2/MapJoin-mapfile21--.hashtable\n",
      "2021-11-29 03:03:48\tUploaded 1 File to: file:/tmp/hive/5050eeb3-dd7a-4b72-b429-ab5fcb7e7685/hive_2021-11-29_15-03-42_062_6099780346050726449-5/-local-10004/HashTable-Stage-2/MapJoin-mapfile21--.hashtable (8424 bytes)\n",
      "2021-11-29 03:03:48\tEnd of local task; Time Taken: 1.756 sec.\n",
      "INFO  : Execution completed successfully\n",
      "INFO  : MapredLocal task succeeded\n",
      "INFO  : Launching Job 1 out of 1\n",
      "INFO  : Starting task [Stage-2:MAPRED] in serial mode\n",
      "INFO  : Number of reduce tasks determined at compile time: 1\n",
      "INFO  : In order to change the average load for a reducer (in bytes):\n",
      "INFO  :   set hive.exec.reducers.bytes.per.reducer=<number>\n",
      "INFO  : In order to limit the maximum number of reducers:\n",
      "INFO  :   set hive.exec.reducers.max=<number>\n",
      "INFO  : In order to set a constant number of reducers:\n",
      "INFO  :   set mapreduce.job.reduces=<number>\n",
      "INFO  : Starting Job = job_1638225439316_0004, Tracking URL = http://quickstart.cloudera:8088/proxy/application_1638225439316_0004/\n",
      "INFO  : Kill Command = /usr/lib/hadoop/bin/hadoop job  -kill job_1638225439316_0004\n",
      "INFO  : Hadoop job information for Stage-2: number of mappers: 1; number of reducers: 1\n",
      "INFO  : 2021-11-29 15:03:58,020 Stage-2 map = 0%,  reduce = 0%\n",
      "INFO  : 2021-11-29 15:04:09,290 Stage-2 map = 100%,  reduce = 0%, Cumulative CPU 3.44 sec\n",
      "INFO  : 2021-11-29 15:04:20,239 Stage-2 map = 100%,  reduce = 100%, Cumulative CPU 6.24 sec\n",
      "INFO  : MapReduce Total cumulative CPU time: 6 seconds 240 msec\n",
      "INFO  : Ended Job = job_1638225439316_0004\n",
      "INFO  : MapReduce Jobs Launched: \n",
      "INFO  : Stage-Stage-2: Map: 1  Reduce: 1   Cumulative CPU: 6.24 sec   HDFS Read: 283003 HDFS Write: 634 SUCCESS\n",
      "INFO  : Total MapReduce CPU Time Spent: 6 seconds 240 msec\n",
      "INFO  : Completed executing command(queryId=hive_20211129150303_40e141a9-bd92-403b-b9e1-1483e34d64f7); Time taken: 38.827 seconds\n",
      "INFO  : OK\n",
      "+-------------------------------------------------+-----------------------+------------------------+--+\n",
      "|           cultivableland.country_name           | cultivableland.y2010  | ruralpopulation.y2010  |\n",
      "+-------------------------------------------------+-----------------------+------------------------+--+\n",
      "| Kosovo                                          |                       |                        |\n",
      "| Isla de San Martín (parte francesa)             |                       |                        |\n",
      "| No clasificado                                  |                       |                        |\n",
      "| Islas Caimán                                    | 0.003529079616036     | 0                      |\n",
      "| Sint Maarten (Dutch part)                       |                       | 0                      |\n",
      "| Kuwait                                          | 0.003342375573385     | 0                      |\n",
      "| Gibraltar                                       |                       | 0                      |\n",
      "| Hong Kong, Región Administrativa Especial       | 0.000498277383901     | 0                      |\n",
      "| Nauru                                           |                       | 0                      |\n",
      "| Singapur                                        | 0.000126065350702     | 0                      |\n",
      "| Bermudas                                        | 0.004606596646398     | 0                      |\n",
      "| Región Administrativa Especial de Macao, China  |                       | 0                      |\n",
      "| Mónaco                                          |                       | 0                      |\n",
      "| Qatar                                           | 0.007396318217299     | 1.499                  |\n",
      "| Bélgica                                         | 0.076544758583889     | 2.349                  |\n",
      "| San Marino                                      | 0.032029723583486     | 4.26000000000001       |\n",
      "| Islas Vírgenes (EE.UU.)                         | 0.009228753103168     | 5.40600000000001       |\n",
      "| Uruguay                                         | 0.605190468294777     | 5.586                  |\n",
      "| Guam                                            | 0.006271991169036     | 5.901                  |\n",
      "| Malta                                           | 0.021905487951982     | 5.928                  |\n",
      "+-------------------------------------------------+-----------------------+------------------------+--+\n",
      "20 rows selected (39.619 seconds)\n",
      "Beeline version 1.1.0-cdh5.12.0 by Apache Hive\n",
      "Closing: 0: jdbc:hive2://localhost:10000/projectDB\n"
     ]
    }
   ],
   "source": [
    "! beeline -u \"jdbc:hive2://localhost:10000/projectDB\" -e \"SELECT cultivableLand.Country_Name, cultivableLand.y2010, ruralPopulation.y2010 FROM cultivableLand JOIN ruralPopulation ON (cultivableLand.Country_Code = ruralPopulation.Country_Code) WHERE ruralPopulation.y2010 IS NOT NULL ORDER BY CAST (ruralPopulation.y2010 AS FLOAT) ASC LIMIT 20;\""
   ]
  },
  {
   "cell_type": "markdown",
   "metadata": {},
   "source": [
    "The result shows a list of 20 countries in ascending order as per their rural population in 2010. As there are several countries with a rural population of 0% over the total, the cultivable land of the country with the least rural population in 2010 is actually a set consisting of the following:\n",
    "\n",
    "\n",
    "Singapur     : 0.000126065350702%\n",
    "\n",
    "Kuwait       : 0.003342375573385%\n",
    "\n",
    "Bermudas     : 0.004606596646398%  \n",
    "\n",
    "Hong Kong, Región Administrativa Especial : 0.000498277383901%\n",
    "\n",
    "Islas Caimán : 0.003529079616036% \n"
   ]
  },
  {
   "cell_type": "markdown",
   "metadata": {},
   "source": [
    "### Query 3: The 5 countries with the largest rural population in 2018\n",
    "\n"
   ]
  },
  {
   "cell_type": "code",
   "execution_count": 11,
   "metadata": {},
   "outputs": [
    {
     "name": "stdout",
     "output_type": "stream",
     "text": [
      "scan complete in 3ms\n",
      "Connecting to jdbc:hive2://localhost:10000/projectDB\n",
      "Connected to: Apache Hive (version 1.1.0-cdh5.12.0)\n",
      "Driver: Hive JDBC (version 1.1.0-cdh5.12.0)\n",
      "Transaction isolation: TRANSACTION_REPEATABLE_READ\n",
      "INFO  : Compiling command(queryId=hive_20211129151515_36817d3d-3fe1-415d-bbed-49a590bf036d): SELECT Country_Name, ruralPopulation2018 FROM tablesView ORDER BY CAST ( ruralPopulation2018 AS FLOAT) DESC LIMIT 5\n",
      "INFO  : Semantic Analysis Completed\n",
      "INFO  : Returning Hive schema: Schema(fieldSchemas:[FieldSchema(name:country_name, type:string, comment:null), FieldSchema(name:ruralpopulation2018, type:string, comment:null)], properties:null)\n",
      "INFO  : Completed compiling command(queryId=hive_20211129151515_36817d3d-3fe1-415d-bbed-49a590bf036d); Time taken: 0.694 seconds\n",
      "INFO  : Concurrency mode is disabled, not creating a lock manager\n",
      "INFO  : Executing command(queryId=hive_20211129151515_36817d3d-3fe1-415d-bbed-49a590bf036d): SELECT Country_Name, ruralPopulation2018 FROM tablesView ORDER BY CAST ( ruralPopulation2018 AS FLOAT) DESC LIMIT 5\n",
      "INFO  : Query ID = hive_20211129151515_36817d3d-3fe1-415d-bbed-49a590bf036d\n",
      "INFO  : Total jobs = 1\n",
      "INFO  : Starting task [Stage-5:MAPREDLOCAL] in serial mode\n",
      "Execution log at: /var/log/hive/hive-server2.log\n",
      "2021-11-29 03:15:16\tStarting to launch local task to process map join;\tmaximum memory = 932184064\n",
      "2021-11-29 03:15:18\tDump the side-table for tag: 1 with group count: 266 into file: file:/tmp/hive/4078ff99-9a7d-417a-b627-b09bf9e3e3e7/hive_2021-11-29_15-15-11_011_5250391471472436506-5/-local-10004/HashTable-Stage-2/MapJoin-mapfile31--.hashtable\n",
      "2021-11-29 03:15:18\tUploaded 1 File to: file:/tmp/hive/4078ff99-9a7d-417a-b627-b09bf9e3e3e7/hive_2021-11-29_15-15-11_011_5250391471472436506-5/-local-10004/HashTable-Stage-2/MapJoin-mapfile31--.hashtable (8444 bytes)\n",
      "2021-11-29 03:15:18\tEnd of local task; Time Taken: 1.813 sec.\n",
      "INFO  : Execution completed successfully\n",
      "INFO  : MapredLocal task succeeded\n",
      "INFO  : Launching Job 1 out of 1\n",
      "INFO  : Starting task [Stage-2:MAPRED] in serial mode\n",
      "INFO  : Number of reduce tasks determined at compile time: 1\n",
      "INFO  : In order to change the average load for a reducer (in bytes):\n",
      "INFO  :   set hive.exec.reducers.bytes.per.reducer=<number>\n",
      "INFO  : In order to limit the maximum number of reducers:\n",
      "INFO  :   set hive.exec.reducers.max=<number>\n",
      "INFO  : In order to set a constant number of reducers:\n",
      "INFO  :   set mapreduce.job.reduces=<number>\n",
      "INFO  : Starting Job = job_1638225439316_0005, Tracking URL = http://quickstart.cloudera:8088/proxy/application_1638225439316_0005/\n",
      "INFO  : Kill Command = /usr/lib/hadoop/bin/hadoop job  -kill job_1638225439316_0005\n",
      "INFO  : Hadoop job information for Stage-2: number of mappers: 1; number of reducers: 1\n",
      "INFO  : 2021-11-29 15:15:29,399 Stage-2 map = 0%,  reduce = 0%\n",
      "INFO  : 2021-11-29 15:15:41,352 Stage-2 map = 100%,  reduce = 0%, Cumulative CPU 3.48 sec\n",
      "INFO  : 2021-11-29 15:15:51,181 Stage-2 map = 100%,  reduce = 100%, Cumulative CPU 6.24 sec\n",
      "INFO  : MapReduce Total cumulative CPU time: 6 seconds 240 msec\n",
      "INFO  : Ended Job = job_1638225439316_0005\n",
      "INFO  : MapReduce Jobs Launched: \n",
      "INFO  : Stage-Stage-2: Map: 1  Reduce: 1   Cumulative CPU: 6.24 sec   HDFS Read: 282470 HDFS Write: 92 SUCCESS\n",
      "INFO  : Total MapReduce CPU Time Spent: 6 seconds 240 msec\n",
      "INFO  : Completed executing command(queryId=hive_20211129151515_36817d3d-3fe1-415d-bbed-49a590bf036d); Time taken: 40.71 seconds\n",
      "INFO  : OK\n",
      "+---------------------+----------------------+--+\n",
      "|    country_name     | ruralpopulation2018  |\n",
      "+---------------------+----------------------+--+\n",
      "| Burundi             | 86.968               |\n",
      "| Papua Nueva Guinea  | 86.831               |\n",
      "| Liechtenstein       | 85.662               |\n",
      "| Níger               | 83.575               |\n",
      "| Malawi              | 83.063               |\n",
      "+---------------------+----------------------+--+\n",
      "5 rows selected (41.674 seconds)\n",
      "Beeline version 1.1.0-cdh5.12.0 by Apache Hive\n",
      "Closing: 0: jdbc:hive2://localhost:10000/projectDB\n"
     ]
    }
   ],
   "source": [
    "! beeline -u \"jdbc:hive2://localhost:10000/projectDB\" -e \"SELECT Country_Name, ruralPopulation2018 FROM tablesView ORDER BY CAST ( ruralPopulation2018 AS FLOAT) DESC LIMIT 5;\""
   ]
  },
  {
   "cell_type": "markdown",
   "metadata": {
    "collapsed": true
   },
   "source": [
    "*-*-*-*-*-*-*-*-*-*-*-*-*-*-*-*-*-*-*-*-*-*-*-*-*-*-*-*-*-*-*-*-*-*-*-*-*-*-*-*-*-*-*-*-*-*-*-*-*-*-*-*-*-*-*-*-"
   ]
  },
  {
   "cell_type": "markdown",
   "metadata": {},
   "source": [
    "## MapReduce python function"
   ]
  },
  {
   "cell_type": "markdown",
   "metadata": {},
   "source": [
    "The following function should retrieve the same data as Query 1 in Step 4: cultivable land in Suiza in 2018. \n",
    "After it's written and executed using a pipeline, we can see how the results match"
   ]
  },
  {
   "cell_type": "code",
   "execution_count": 12,
   "metadata": {},
   "outputs": [
    {
     "name": "stdout",
     "output_type": "stream",
     "text": [
      "Writing myMapReduce.py\n"
     ]
    }
   ],
   "source": [
    "%%writefile myMapReduce.py\n",
    "#!/usr/bin/env python\n",
    "\n",
    "import sys\n",
    "\n",
    "\n",
    "for line in sys.stdin:\n",
    "\n",
    "    data = line.strip().split(\",\")\n",
    "\n",
    "    if len(data) == 65:\n",
    "\n",
    "        Country_Name,Country_Code,Indicator_Name,Indicator_Code,y1960,y1961,y1962,y1963,y1964,y1965,y1966,y1967,y1968,y1969,\\\n",
    "        y1970,y1971,y1972,y1973,y1974,y1975,y1976,y1977,y1978,y1979,y1980,y1981,y1982,y1983,y1984,y1985,y1986,y1987,y1988,y1989,\\\n",
    "        y1990,y1991,y1992,y1993,y1994,y1995,y1996,y1997,y1998,y1999,y2000,y2001,y2002,y2003,y2004,y2005,y2006,y2007,y2008,y2009,\\\n",
    "        y2010,y2011,y2012,y2013,y2014,y2015,y2016,y2017,y2018,y2019,y2020 = data\n",
    "\n",
    "        if Country_Name == \"Suiza\" and Indicator_Code ==\"AG.LND.ARBL.HA.PC\":\n",
    "            print(\"{0}, {1}\".format(Country_Name,y2018))\n",
    "  "
   ]
  },
  {
   "cell_type": "code",
   "execution_count": 13,
   "metadata": {
    "collapsed": true
   },
   "outputs": [],
   "source": [
    "! cat /home/cloudera/API_AG.LND.ARBL.HA.PC_DS2_es_csv_v2_2593504.csv | python myMapReduce.py > Suiza18"
   ]
  },
  {
   "cell_type": "code",
   "execution_count": 14,
   "metadata": {},
   "outputs": [
    {
     "name": "stdout",
     "output_type": "stream",
     "text": [
      "Suiza, 0.046761042473224\r\n"
     ]
    }
   ],
   "source": [
    "! tail Suiza18 "
   ]
  },
  {
   "cell_type": "code",
   "execution_count": null,
   "metadata": {
    "collapsed": true
   },
   "outputs": [],
   "source": []
  }
 ],
 "metadata": {
  "kernelspec": {
   "display_name": "Python 2",
   "language": "python",
   "name": "python2"
  },
  "language_info": {
   "codemirror_mode": {
    "name": "ipython",
    "version": 2
   },
   "file_extension": ".py",
   "mimetype": "text/x-python",
   "name": "python",
   "nbconvert_exporter": "python",
   "pygments_lexer": "ipython2",
   "version": "2.7.14"
  }
 },
 "nbformat": 4,
 "nbformat_minor": 2
}
